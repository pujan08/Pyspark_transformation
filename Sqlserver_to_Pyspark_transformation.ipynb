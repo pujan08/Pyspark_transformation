{
 "cells": [
  {
   "cell_type": "code",
   "execution_count": 37,
   "metadata": {
    "colab": {
     "base_uri": "https://localhost:8080/"
    },
    "executionInfo": {
     "elapsed": 12847,
     "status": "ok",
     "timestamp": 1720145761981,
     "user": {
      "displayName": "pujan bhatt",
      "userId": "08540859683408472730"
     },
     "user_tz": 240
    },
    "id": "A3kiDUt9qrVG",
    "outputId": "a598249f-43cb-448a-fe5e-a898a66e8a8e"
   },
   "outputs": [
    {
     "name": "stdout",
     "output_type": "stream",
     "text": [
      "Requirement already satisfied: sqlalchemy in c:\\programdata\\anaconda3\\lib\\site-packages (2.0.30)\n",
      "Requirement already satisfied: pandas in c:\\programdata\\anaconda3\\lib\\site-packages (2.2.2)\n",
      "Requirement already satisfied: pyodbc in c:\\programdata\\anaconda3\\lib\\site-packages (5.0.1)\n",
      "Requirement already satisfied: typing-extensions>=4.6.0 in c:\\programdata\\anaconda3\\lib\\site-packages (from sqlalchemy) (4.10.0)\n",
      "Requirement already satisfied: greenlet!=0.4.17 in c:\\programdata\\anaconda3\\lib\\site-packages (from sqlalchemy) (3.0.1)\n",
      "Requirement already satisfied: numpy>=1.23.2 in c:\\programdata\\anaconda3\\lib\\site-packages (from pandas) (1.26.4)\n",
      "Requirement already satisfied: python-dateutil>=2.8.2 in c:\\programdata\\anaconda3\\lib\\site-packages (from pandas) (2.9.0.post0)\n",
      "Requirement already satisfied: pytz>=2020.1 in c:\\programdata\\anaconda3\\lib\\site-packages (from pandas) (2024.1)\n",
      "Requirement already satisfied: tzdata>=2022.7 in c:\\programdata\\anaconda3\\lib\\site-packages (from pandas) (2023.3)\n",
      "Requirement already satisfied: six>=1.5 in c:\\programdata\\anaconda3\\lib\\site-packages (from python-dateutil>=2.8.2->pandas) (1.16.0)\n"
     ]
    }
   ],
   "source": [
    "!pip install sqlalchemy pandas pyodbc\n"
   ]
  },
  {
   "cell_type": "code",
   "execution_count": 38,
   "metadata": {
    "executionInfo": {
     "elapsed": 15,
     "status": "ok",
     "timestamp": 1720148532247,
     "user": {
      "displayName": "pujan bhatt",
      "userId": "08540859683408472730"
     },
     "user_tz": 240
    },
    "id": "UMVS4MuArSnu"
   },
   "outputs": [],
   "source": [
    "import pandas as pd\n",
    "from sqlalchemy import create_engine\n",
    "import pyodbc\n",
    "from pyspark.sql import SparkSession\n",
    "from pyspark.sql.functions import col, to_timestamp, year, month, udf,to_date, when\n",
    "from pyspark.sql.types import DoubleType, StringType\n"
   ]
  },
  {
   "cell_type": "code",
   "execution_count": 39,
   "metadata": {
    "executionInfo": {
     "elapsed": 21,
     "status": "ok",
     "timestamp": 1720147306439,
     "user": {
      "displayName": "pujan bhatt",
      "userId": "08540859683408472730"
     },
     "user_tz": 240
    },
    "id": "Jzo6ChMnravn"
   },
   "outputs": [],
   "source": [
    "conn=pyodbc.connect('Driver={SQL Server};'\n",
    "  'Server=DESKTOP-T08SBLB\\SQLEXPRESS;'\n",
    "  'Database=LAPD;'\n",
    "  'Trusted_Connection=yes;')\n",
    "\n"
   ]
  },
  {
   "cell_type": "code",
   "execution_count": 40,
   "metadata": {
    "colab": {
     "base_uri": "https://localhost:8080/"
    },
    "executionInfo": {
     "elapsed": 8,
     "status": "ok",
     "timestamp": 1720146977215,
     "user": {
      "displayName": "pujan bhatt",
      "userId": "08540859683408472730"
     },
     "user_tz": 240
    },
    "id": "QSK5r1mSv7aR",
    "outputId": "39205aaf-ee64-4b73-a44d-54f3961f8287"
   },
   "outputs": [
    {
     "name": "stdout",
     "output_type": "stream",
     "text": [
      "Connection Successful\n"
     ]
    }
   ],
   "source": [
    "if conn:\n",
    "    print('Connection Successful')\n",
    "else:\n",
    "    print('Connection Failed')"
   ]
  },
  {
   "cell_type": "code",
   "execution_count": 41,
   "metadata": {
    "executionInfo": {
     "elapsed": 5,
     "status": "ok",
     "timestamp": 1720147176314,
     "user": {
      "displayName": "pujan bhatt",
      "userId": "08540859683408472730"
     },
     "user_tz": 240
    },
    "id": "MFMPv8f_wDt4"
   },
   "outputs": [],
   "source": [
    "query='''SELECT\n",
    "    TABLE_SCHEMA,\n",
    "    TABLE_NAME,\n",
    "    COLUMN_NAME,\n",
    "    DATA_TYPE,\n",
    "    IS_NULLABLE,\n",
    "    CHARACTER_MAXIMUM_LENGTH\n",
    "FROM\n",
    "    INFORMATION_SCHEMA.COLUMNS\n",
    "WHERE\n",
    "    TABLE_CATALOG = 'LAPD'\n",
    "ORDER BY\n",
    "    TABLE_SCHEMA,\n",
    "    TABLE_NAME,\n",
    "    ORDINAL_POSITION;\n",
    "'''"
   ]
  },
  {
   "cell_type": "code",
   "execution_count": 42,
   "metadata": {
    "colab": {
     "base_uri": "https://localhost:8080/"
    },
    "executionInfo": {
     "elapsed": 128,
     "status": "ok",
     "timestamp": 1720147238706,
     "user": {
      "displayName": "pujan bhatt",
      "userId": "08540859683408472730"
     },
     "user_tz": 240
    },
    "id": "pt_8RlyNwvMQ",
    "outputId": "c8a3083e-3bd9-4334-a39f-d6e62498f09f"
   },
   "outputs": [
    {
     "name": "stdout",
     "output_type": "stream",
     "text": [
      "('dbo', 'Arrest_Data_from_2010_to_2019', 'Report ID', 'varchar', 'YES', 50)\n",
      "('dbo', 'Arrest_Data_from_2010_to_2019', 'Report Type', 'varchar', 'YES', 50)\n",
      "('dbo', 'Arrest_Data_from_2010_to_2019', 'Arrest Date', 'varchar', 'YES', 50)\n",
      "('dbo', 'Arrest_Data_from_2010_to_2019', 'Time', 'varchar', 'YES', 50)\n",
      "('dbo', 'Arrest_Data_from_2010_to_2019', 'Area ID', 'varchar', 'YES', 50)\n",
      "('dbo', 'Arrest_Data_from_2010_to_2019', 'Area Name', 'varchar', 'YES', 50)\n",
      "('dbo', 'Arrest_Data_from_2010_to_2019', 'Reporting District', 'varchar', 'YES', 50)\n",
      "('dbo', 'Arrest_Data_from_2010_to_2019', 'Age', 'varchar', 'YES', 50)\n",
      "('dbo', 'Arrest_Data_from_2010_to_2019', 'Sex Code', 'varchar', 'YES', 50)\n",
      "('dbo', 'Arrest_Data_from_2010_to_2019', 'Descent Code', 'varchar', 'YES', 50)\n",
      "('dbo', 'Arrest_Data_from_2010_to_2019', 'Charge Group Code', 'varchar', 'YES', 50)\n",
      "('dbo', 'Arrest_Data_from_2010_to_2019', 'Charge Group Description', 'varchar', 'YES', 50)\n",
      "('dbo', 'Arrest_Data_from_2010_to_2019', 'Arrest Type Code', 'varchar', 'YES', 50)\n",
      "('dbo', 'Arrest_Data_from_2010_to_2019', 'Charge', 'varchar', 'YES', 50)\n",
      "('dbo', 'Arrest_Data_from_2010_to_2019', 'Charge Description', 'varchar', 'YES', 50)\n",
      "('dbo', 'Arrest_Data_from_2010_to_2019', 'Disposition Description', 'varchar', 'YES', 50)\n",
      "('dbo', 'Arrest_Data_from_2010_to_2019', 'Address', 'varchar', 'YES', 50)\n",
      "('dbo', 'Arrest_Data_from_2010_to_2019', 'Cross Street', 'varchar', 'YES', 50)\n",
      "('dbo', 'Arrest_Data_from_2010_to_2019', 'LAT', 'varchar', 'YES', 50)\n",
      "('dbo', 'Arrest_Data_from_2010_to_2019', 'LON', 'varchar', 'YES', 50)\n",
      "('dbo', 'Arrest_Data_from_2010_to_2019', 'Location', 'varchar', 'YES', 50)\n",
      "('dbo', 'Arrest_Data_from_2010_to_2019', 'Booking Date', 'varchar', 'YES', 50)\n",
      "('dbo', 'Arrest_Data_from_2010_to_2019', 'Booking Time', 'varchar', 'YES', 50)\n",
      "('dbo', 'Arrest_Data_from_2010_to_2019', 'Booking Location', 'varchar', 'YES', 50)\n",
      "('dbo', 'Arrest_Data_from_2010_to_2019', 'Booking Location Code', 'varchar', 'YES', 50)\n",
      "('dbo', 'Arrest_Data_from_2020_to_Present', 'Report ID', 'varchar', 'YES', 50)\n",
      "('dbo', 'Arrest_Data_from_2020_to_Present', 'Report Type', 'varchar', 'YES', 50)\n",
      "('dbo', 'Arrest_Data_from_2020_to_Present', 'Arrest Date', 'varchar', 'YES', 50)\n",
      "('dbo', 'Arrest_Data_from_2020_to_Present', 'Time', 'varchar', 'YES', 50)\n",
      "('dbo', 'Arrest_Data_from_2020_to_Present', 'Area ID', 'varchar', 'YES', 50)\n",
      "('dbo', 'Arrest_Data_from_2020_to_Present', 'Area Name', 'varchar', 'YES', 50)\n",
      "('dbo', 'Arrest_Data_from_2020_to_Present', 'Reporting District', 'varchar', 'YES', 50)\n",
      "('dbo', 'Arrest_Data_from_2020_to_Present', 'Age', 'varchar', 'YES', 50)\n",
      "('dbo', 'Arrest_Data_from_2020_to_Present', 'Sex Code', 'varchar', 'YES', 50)\n",
      "('dbo', 'Arrest_Data_from_2020_to_Present', 'Descent Code', 'varchar', 'YES', 50)\n",
      "('dbo', 'Arrest_Data_from_2020_to_Present', 'Charge Group Code', 'varchar', 'YES', 50)\n",
      "('dbo', 'Arrest_Data_from_2020_to_Present', 'Charge Group Description', 'varchar', 'YES', 50)\n",
      "('dbo', 'Arrest_Data_from_2020_to_Present', 'Arrest Type Code', 'varchar', 'YES', 50)\n",
      "('dbo', 'Arrest_Data_from_2020_to_Present', 'Charge', 'varchar', 'YES', 50)\n",
      "('dbo', 'Arrest_Data_from_2020_to_Present', 'Charge Description', 'varchar', 'YES', 50)\n",
      "('dbo', 'Arrest_Data_from_2020_to_Present', 'Disposition Description', 'varchar', 'YES', 50)\n",
      "('dbo', 'Arrest_Data_from_2020_to_Present', 'Address', 'varchar', 'YES', 50)\n",
      "('dbo', 'Arrest_Data_from_2020_to_Present', 'Cross Street', 'varchar', 'YES', 50)\n",
      "('dbo', 'Arrest_Data_from_2020_to_Present', 'LAT', 'varchar', 'YES', 50)\n",
      "('dbo', 'Arrest_Data_from_2020_to_Present', 'LON', 'varchar', 'YES', 50)\n",
      "('dbo', 'Arrest_Data_from_2020_to_Present', 'Location', 'varchar', 'YES', 50)\n",
      "('dbo', 'Arrest_Data_from_2020_to_Present', 'Booking Date', 'varchar', 'YES', 50)\n",
      "('dbo', 'Arrest_Data_from_2020_to_Present', 'Booking Time', 'varchar', 'YES', 50)\n",
      "('dbo', 'Arrest_Data_from_2020_to_Present', 'Booking Location', 'varchar', 'YES', 50)\n",
      "('dbo', 'Arrest_Data_from_2020_to_Present', 'Booking Location Code', 'varchar', 'YES', 50)\n"
     ]
    }
   ],
   "source": [
    "cursor = conn.cursor()\n",
    "cursor.execute(query)\n",
    "for row in cursor:\n",
    "    print(row)"
   ]
  },
  {
   "cell_type": "code",
   "execution_count": 43,
   "metadata": {
    "executionInfo": {
     "elapsed": 3,
     "status": "ok",
     "timestamp": 1720147526320,
     "user": {
      "displayName": "pujan bhatt",
      "userId": "08540859683408472730"
     },
     "user_tz": 240
    },
    "id": "XyLm3dXzsPvn"
   },
   "outputs": [],
   "source": [
    "# Define queries\n",
    "query_1 = 'SELECT * FROM [dbo].[Arrest_Data_from_2010_to_2019];'\n",
    "query_2 = 'SELECT * FROM [dbo].[Arrest_Data_from_2020_to_Present];'"
   ]
  },
  {
   "cell_type": "code",
   "execution_count": 44,
   "metadata": {
    "colab": {
     "base_uri": "https://localhost:8080/"
    },
    "executionInfo": {
     "elapsed": 35172,
     "status": "ok",
     "timestamp": 1720147601292,
     "user": {
      "displayName": "pujan bhatt",
      "userId": "08540859683408472730"
     },
     "user_tz": 240
    },
    "id": "JUhMHLzsxp7K",
    "outputId": "4c5b9605-b1e4-42d4-bf7a-af44cb300403"
   },
   "outputs": [
    {
     "name": "stderr",
     "output_type": "stream",
     "text": [
      "C:\\Users\\16395\\AppData\\Local\\Temp\\ipykernel_15196\\2029849224.py:2: UserWarning: pandas only supports SQLAlchemy connectable (engine/connection) or database string URI or sqlite3 DBAPI2 connection. Other DBAPI2 objects are not tested. Please consider using SQLAlchemy.\n",
      "  df_2010_to_2019 = pd.read_sql_query(query_1, conn)\n"
     ]
    }
   ],
   "source": [
    "# Execute query_1 and store results in a DataFrame\n",
    "df_2010_to_2019 = pd.read_sql_query(query_1, conn)"
   ]
  },
  {
   "cell_type": "code",
   "execution_count": 45,
   "metadata": {
    "colab": {
     "base_uri": "https://localhost:8080/"
    },
    "executionInfo": {
     "elapsed": 71,
     "status": "ok",
     "timestamp": 1720147623237,
     "user": {
      "displayName": "pujan bhatt",
      "userId": "08540859683408472730"
     },
     "user_tz": 240
    },
    "id": "oGBqJTDlyY09",
    "outputId": "343730e4-c486-4a8c-92f8-b8220604a0d5"
   },
   "outputs": [
    {
     "name": "stdout",
     "output_type": "stream",
     "text": [
      "Sample data from Arrest_Data_from_2010_to_2019:\n",
      "   Report ID Report Type Arrest Date  Time Area ID  Area Name  \\\n",
      "0  100629383         RFC  12/09/2010  1945      06  Hollywood   \n",
      "1  100629384         RFC  12/09/2010  1845      06  Hollywood   \n",
      "2  100629386         RFC  12/09/2010  1845      06  Hollywood   \n",
      "3  100629387         RFC  12/09/2010  2355      06  Hollywood   \n",
      "4  100629388         RFC  12/09/2010  2335      06  Hollywood   \n",
      "\n",
      "  Reporting District Age Sex Code Descent Code  ...  \\\n",
      "0               0647  20        M            H  ...   \n",
      "1               0648  20        M            H  ...   \n",
      "2               0648  18        M            H  ...   \n",
      "3               0665  21        F            H  ...   \n",
      "4               0637  19        M            H  ...   \n",
      "\n",
      "       Disposition Description                                  Address  \\\n",
      "0  MISDEMEANOR COMPLAINT FILED          GORDON                       ST   \n",
      "1  MISDEMEANOR COMPLAINT FILED          CARLTON                      WY   \n",
      "2  MISDEMEANOR COMPLAINT FILED          CARLTON                      WY   \n",
      "3  MISDEMEANOR COMPLAINT FILED                               LAS PALMAS   \n",
      "4  MISDEMEANOR COMPLAINT FILED  1700    VINE                         ST   \n",
      "\n",
      "                      Cross Street      LAT        LON  \\\n",
      "0  SUNSET                       BL  34.0981  -118.3196   \n",
      "1  WESTERN                      AV  34.1005  -118.3093   \n",
      "2  WESTERN                      AV  34.1005  -118.3093   \n",
      "3                     SANTA MONICA  34.0907  -118.3363   \n",
      "4                                   34.1016  -118.3267   \n",
      "\n",
      "                    Location Booking Date Booking Time Booking Location  \\\n",
      "0  POINT (-118.3196 34.0981)                                              \n",
      "1  POINT (-118.3093 34.1005)                                              \n",
      "2  POINT (-118.3093 34.1005)                                              \n",
      "3  POINT (-118.3363 34.0907)                                              \n",
      "4  POINT (-118.3267 34.1016)                                              \n",
      "\n",
      "  Booking Location Code  \n",
      "0                        \n",
      "1                        \n",
      "2                        \n",
      "3                        \n",
      "4                        \n",
      "\n",
      "[5 rows x 25 columns]\n"
     ]
    }
   ],
   "source": [
    "# Display sample data from each DataFrame\n",
    "print(\"Sample data from Arrest_Data_from_2010_to_2019:\")\n",
    "print(df_2010_to_2019.head())"
   ]
  },
  {
   "cell_type": "code",
   "execution_count": 46,
   "metadata": {
    "colab": {
     "base_uri": "https://localhost:8080/"
    },
    "executionInfo": {
     "elapsed": 7997,
     "status": "ok",
     "timestamp": 1720147665745,
     "user": {
      "displayName": "pujan bhatt",
      "userId": "08540859683408472730"
     },
     "user_tz": 240
    },
    "id": "p08TMCQQyiH2",
    "outputId": "1353f4ad-12d3-406e-a10c-a1fdc1e8d413"
   },
   "outputs": [
    {
     "name": "stderr",
     "output_type": "stream",
     "text": [
      "C:\\Users\\16395\\AppData\\Local\\Temp\\ipykernel_15196\\1424259808.py:2: UserWarning: pandas only supports SQLAlchemy connectable (engine/connection) or database string URI or sqlite3 DBAPI2 connection. Other DBAPI2 objects are not tested. Please consider using SQLAlchemy.\n",
      "  df_2020_to_present = pd.read_sql_query(query_2, conn)\n"
     ]
    }
   ],
   "source": [
    "# Execute query_2 and store results in a DataFrame\n",
    "df_2020_to_present = pd.read_sql_query(query_2, conn)"
   ]
  },
  {
   "cell_type": "code",
   "execution_count": 47,
   "metadata": {
    "colab": {
     "base_uri": "https://localhost:8080/"
    },
    "executionInfo": {
     "elapsed": 13,
     "status": "ok",
     "timestamp": 1720147671901,
     "user": {
      "displayName": "pujan bhatt",
      "userId": "08540859683408472730"
     },
     "user_tz": 240
    },
    "id": "asUuW0kuyk1I",
    "outputId": "d60ab6ff-f1e2-4278-9282-0ef085e8bb3f"
   },
   "outputs": [
    {
     "name": "stdout",
     "output_type": "stream",
     "text": [
      "\n",
      "Sample data from Arrest_Data_from_2020_to_Present:\n",
      "  Report ID Report Type             Arrest Date  Time Area ID    Area Name  \\\n",
      "0   6636966     BOOKING  07/06/2023 12:00:00 AM  2250      08      West LA   \n",
      "1   6637119     BOOKING  07/07/2023 12:00:00 AM  1000      03    Southwest   \n",
      "2   6624479     BOOKING  06/15/2023 12:00:00 AM  1850      07     Wilshire   \n",
      "3   6636128     BOOKING  07/05/2023 12:00:00 AM  1550      02      Rampart   \n",
      "4   6636650     BOOKING  07/06/2023 12:00:00 AM  1335      12  77th Street   \n",
      "\n",
      "  Reporting District Age Sex Code Descent Code  ...  \\\n",
      "0               0817  46        M            B  ...   \n",
      "1               0396  39        M            B  ...   \n",
      "2               0724  33        F            H  ...   \n",
      "3               0218  30        F            B  ...   \n",
      "4               1258  31        M            H  ...   \n",
      "\n",
      "       Disposition Description                                  Address  \\\n",
      "0                  NOT FIREARM                                   W/GBI\"   \n",
      "1  MISDEMEANOR COMPLAINT FILED          40TH                         PL   \n",
      "2  MISDEMEANOR COMPLAINT FILED   100    THE GROVE                    DR   \n",
      "3  MISDEMEANOR COMPLAINT FILED  1000    ECHO PARK                    AV   \n",
      "4                                                      7800 S  BROADWAY   \n",
      "\n",
      "                  Cross Street                                     LAT  \\\n",
      "0  MISDEMEANOR COMPLAINT FILED  900    GAYLEY                       AV   \n",
      "1                      VERMONT                                   34.01   \n",
      "2                                                              34.0736   \n",
      "3                                                              34.0741   \n",
      "4                                                              33.9689   \n",
      "\n",
      "         LON                   Location            Booking Date  \\\n",
      "0                               34.0637               -118.4482   \n",
      "1  -118.2915    POINT (-118.2915 34.01)  07/07/2023 12:00:00 AM   \n",
      "2  -118.3563  POINT (-118.3563 34.0736)  06/15/2023 12:00:00 AM   \n",
      "3   -118.259   POINT (-118.259 34.0741)  07/05/2023 12:00:00 AM   \n",
      "4  -118.2783  POINT (-118.2783 33.9689)  07/06/2023 12:00:00 AM   \n",
      "\n",
      "                Booking Time        Booking Location  \\\n",
      "0  POINT (-118.4482 34.0637)  07/07/2023 12:00:00 AM   \n",
      "1                       1156                 77TH ST   \n",
      "2                       2251                 77TH ST   \n",
      "3                       1940   METRO - JAIL DIVISION   \n",
      "4                       1345                 77TH ST   \n",
      "\n",
      "             Booking Location Code  \n",
      "0  0143,METRO - JAIL DIVISION,4273  \n",
      "1                             4212  \n",
      "2                             4212  \n",
      "3                             4273  \n",
      "4                             4212  \n",
      "\n",
      "[5 rows x 25 columns]\n"
     ]
    }
   ],
   "source": [
    "print(\"\\nSample data from Arrest_Data_from_2020_to_Present:\")\n",
    "print(df_2020_to_present.head())"
   ]
  },
  {
   "cell_type": "code",
   "execution_count": 48,
   "metadata": {
    "executionInfo": {
     "elapsed": 9291,
     "status": "ok",
     "timestamp": 1720147749314,
     "user": {
      "displayName": "pujan bhatt",
      "userId": "08540859683408472730"
     },
     "user_tz": 240
    },
    "id": "YXqCBQFbyuvb"
   },
   "outputs": [],
   "source": [
    "# Increase Spark memory limit\n",
    "spark = SparkSession.builder \\\n",
    "    .appName(\"Pandas to PySpark\") \\\n",
    "    .config(\"spark.driver.memory\", \"4g\") \\\n",
    "    .config(\"spark.sql.legacy.timeParserPolicy\", \"LEGACY\") \\\n",
    "    .getOrCreate()"
   ]
  },
  {
   "cell_type": "code",
   "execution_count": 49,
   "metadata": {
    "executionInfo": {
     "elapsed": 221659,
     "status": "ok",
     "timestamp": 1720148045555,
     "user": {
      "displayName": "pujan bhatt",
      "userId": "08540859683408472730"
     },
     "user_tz": 240
    },
    "id": "WMYls_JPy5Pw"
   },
   "outputs": [],
   "source": [
    "# Convert the pandas DataFrame to a PySpark DataFrame\n",
    "spark_df_2010_to_2019 = spark.createDataFrame(df_2010_to_2019)"
   ]
  },
  {
   "cell_type": "code",
   "execution_count": 50,
   "metadata": {
    "executionInfo": {
     "elapsed": 46924,
     "status": "ok",
     "timestamp": 1720148101512,
     "user": {
      "displayName": "pujan bhatt",
      "userId": "08540859683408472730"
     },
     "user_tz": 240
    },
    "id": "DLljSOzgzOih"
   },
   "outputs": [],
   "source": [
    "# Convert the pandas DataFrame to a PySpark DataFrame for df1\n",
    "spark_df_2020_to_present = spark.createDataFrame(df_2020_to_present)"
   ]
  },
  {
   "cell_type": "code",
   "execution_count": 51,
   "metadata": {
    "executionInfo": {
     "elapsed": 138,
     "status": "ok",
     "timestamp": 1720148263900,
     "user": {
      "displayName": "pujan bhatt",
      "userId": "08540859683408472730"
     },
     "user_tz": 240
    },
    "id": "uyiRXFdQ0Uzn"
   },
   "outputs": [],
   "source": [
    "# Union the PySpark DataFrames\n",
    "combined_arrest_data = spark_df_2010_to_2019.union(spark_df_2020_to_present)"
   ]
  },
  {
   "cell_type": "code",
   "execution_count": 52,
   "metadata": {
    "colab": {
     "base_uri": "https://localhost:8080/"
    },
    "executionInfo": {
     "elapsed": 8056,
     "status": "ok",
     "timestamp": 1720148346050,
     "user": {
      "displayName": "pujan bhatt",
      "userId": "08540859683408472730"
     },
     "user_tz": 240
    },
    "id": "AVFEkxTd05gY",
    "outputId": "0b82e183-df79-472e-b40c-a97e56351073"
   },
   "outputs": [
    {
     "name": "stdout",
     "output_type": "stream",
     "text": [
      "+---------+-----------+-----------+----+-------+---------+------------------+---+--------+------------+-----------------+------------------------+----------------+----------+------------------+-----------------------+--------------------+--------------------+-------+---------+--------------------+------------+------------+----------------+---------------------+\n",
      "|Report ID|Report Type|Arrest Date|Time|Area ID|Area Name|Reporting District|Age|Sex Code|Descent Code|Charge Group Code|Charge Group Description|Arrest Type Code|    Charge|Charge Description|Disposition Description|             Address|        Cross Street|    LAT|      LON|            Location|Booking Date|Booking Time|Booking Location|Booking Location Code|\n",
      "+---------+-----------+-----------+----+-------+---------+------------------+---+--------+------------+-----------------+------------------------+----------------+----------+------------------+-----------------------+--------------------+--------------------+-------+---------+--------------------+------------+------------+----------------+---------------------+\n",
      "|100629383|        RFC| 12/09/2010|1945|     06|Hollywood|              0647| 20|       M|           H|               18|              Drunkeness|               M|41.27CLAMC|DRINKING IN PUBLIC|   MISDEMEANOR COMPL...|GORDON           ...|SUNSET           ...|34.0981|-118.3196|POINT (-118.3196 ...|            |            |                |                     |\n",
      "|100629384|        RFC| 12/09/2010|1845|     06|Hollywood|              0648| 20|       M|           H|               18|              Drunkeness|               M|41.27CLAMC|DRINKING IN PUBLIC|   MISDEMEANOR COMPL...|CARLTON          ...|WESTERN          ...|34.1005|-118.3093|POINT (-118.3093 ...|            |            |                |                     |\n",
      "|100629386|        RFC| 12/09/2010|1845|     06|Hollywood|              0648| 18|       M|           H|               18|              Drunkeness|               M|41.27CLAMC|DRINKING IN PUBLIC|   MISDEMEANOR COMPL...|CARLTON          ...|WESTERN          ...|34.1005|-118.3093|POINT (-118.3093 ...|            |            |                |                     |\n",
      "|100629387|        RFC| 12/09/2010|2355|     06|Hollywood|              0665| 21|       F|           H|               18|              Drunkeness|               M|41.27CLAMC|DRINKING IN PUBLIC|   MISDEMEANOR COMPL...|          LAS PALMAS|        SANTA MONICA|34.0907|-118.3363|POINT (-118.3363 ...|            |            |                |                     |\n",
      "|100629388|        RFC| 12/09/2010|2335|     06|Hollywood|              0637| 19|       M|           H|               18|              Drunkeness|               M|41.27CLAMC|DRINKING IN PUBLIC|   MISDEMEANOR COMPL...|1700    VINE     ...|                    |34.1016|-118.3267|POINT (-118.3267 ...|            |            |                |                     |\n",
      "+---------+-----------+-----------+----+-------+---------+------------------+---+--------+------------+-----------------+------------------------+----------------+----------+------------------+-----------------------+--------------------+--------------------+-------+---------+--------------------+------------+------------+----------------+---------------------+\n",
      "only showing top 5 rows\n",
      "\n"
     ]
    }
   ],
   "source": [
    "combined_arrest_data.show(5)"
   ]
  },
  {
   "cell_type": "code",
   "execution_count": 53,
   "metadata": {
    "executionInfo": {
     "elapsed": 70,
     "status": "ok",
     "timestamp": 1720148392084,
     "user": {
      "displayName": "pujan bhatt",
      "userId": "08540859683408472730"
     },
     "user_tz": 240
    },
    "id": "XLs20Hxc1Qy4"
   },
   "outputs": [],
   "source": [
    "combined_arrest_data = combined_arrest_data.filter(col('Arrest Date').isNotNull())"
   ]
  },
  {
   "cell_type": "code",
   "execution_count": 54,
   "metadata": {
    "executionInfo": {
     "elapsed": 8,
     "status": "ok",
     "timestamp": 1720148413532,
     "user": {
      "displayName": "pujan bhatt",
      "userId": "08540859683408472730"
     },
     "user_tz": 240
    },
    "id": "UOsWqo3H1YLG"
   },
   "outputs": [],
   "source": [
    "# Extract Latitude and Longitude from 'Location'\n",
    "def extract_latitude(location):\n",
    "    try:\n",
    "        return float(location.split()[1][1:])\n",
    "    except Exception as e:\n",
    "        print(f\"Error extracting latitude: {e}\")\n",
    "        return None\n",
    "\n",
    "def extract_longitude(location):\n",
    "    try:\n",
    "        return float(location.split()[2][:-1])\n",
    "    except Exception as e:\n",
    "        print(f\"Error extracting longitude: {e}\")\n",
    "        return None"
   ]
  },
  {
   "cell_type": "code",
   "execution_count": 55,
   "metadata": {
    "executionInfo": {
     "elapsed": 130,
     "status": "ok",
     "timestamp": 1720148462809,
     "user": {
      "displayName": "pujan bhatt",
      "userId": "08540859683408472730"
     },
     "user_tz": 240
    },
    "id": "X311Zbuj1dTW"
   },
   "outputs": [],
   "source": [
    "latitude_udf = udf(extract_latitude, DoubleType())\n",
    "longitude_udf = udf(extract_longitude, DoubleType())\n",
    "\n",
    "combined_arrest_data = combined_arrest_data.withColumn('Latitude', latitude_udf(col('Location')))\n",
    "combined_arrest_data = combined_arrest_data.withColumn('Longitude', longitude_udf(col('Location')))"
   ]
  },
  {
   "cell_type": "code",
   "execution_count": 56,
   "metadata": {
    "executionInfo": {
     "elapsed": 8,
     "status": "ok",
     "timestamp": 1720148484299,
     "user": {
      "displayName": "pujan bhatt",
      "userId": "08540859683408472730"
     },
     "user_tz": 240
    },
    "id": "vLJbUDbB1pS8"
   },
   "outputs": [],
   "source": [
    "# Function to clean address\n",
    "def clean_address(address):\n",
    "    if address:\n",
    "        return ' '.join(address.split())\n",
    "    return address\n",
    "\n",
    "clean_address_udf = udf(clean_address, StringType())"
   ]
  },
  {
   "cell_type": "code",
   "execution_count": 57,
   "metadata": {
    "executionInfo": {
     "elapsed": 76,
     "status": "ok",
     "timestamp": 1720148494776,
     "user": {
      "displayName": "pujan bhatt",
      "userId": "08540859683408472730"
     },
     "user_tz": 240
    },
    "id": "n_1PWm1-1uo5"
   },
   "outputs": [],
   "source": [
    "# Apply the cleaning function to the Address and Cross Street columns\n",
    "combined_arrest_data = combined_arrest_data.withColumn('Address', clean_address_udf(col('Address')))\n",
    "combined_arrest_data = combined_arrest_data.withColumn('Cross Street', clean_address_udf(col('Cross Street')))"
   ]
  },
  {
   "cell_type": "code",
   "execution_count": 58,
   "metadata": {
    "executionInfo": {
     "elapsed": 25,
     "status": "ok",
     "timestamp": 1720148559141,
     "user": {
      "displayName": "pujan bhatt",
      "userId": "08540859683408472730"
     },
     "user_tz": 240
    },
    "id": "EsDcXtct1xJ4"
   },
   "outputs": [],
   "source": [
    "# Drop specified columns\n",
    "columns_to_drop = [\n",
    "    'Descent Code', 'Charge Group Code', 'Charge Group Description',\n",
    "    'Disposition Description', 'Booking Date', 'Booking Time',\n",
    "    'Booking Location', 'Booking Location Code'\n",
    "]\n",
    "combined_arrest_data = combined_arrest_data.drop(*columns_to_drop)"
   ]
  },
  {
   "cell_type": "code",
   "execution_count": 59,
   "metadata": {
    "executionInfo": {
     "elapsed": 34,
     "status": "ok",
     "timestamp": 1720148573442,
     "user": {
      "displayName": "pujan bhatt",
      "userId": "08540859683408472730"
     },
     "user_tz": 240
    },
    "id": "nRYoij051zzQ"
   },
   "outputs": [],
   "source": [
    "# Fill missing values in 'Charge Description, cross street'\n",
    "combined_arrest_data = combined_arrest_data.withColumn('Charge Description', when(col('Charge Description').isNull(), 'Unknown').otherwise(col('Charge Description')))"
   ]
  },
  {
   "cell_type": "code",
   "execution_count": 60,
   "metadata": {
    "executionInfo": {
     "elapsed": 82,
     "status": "ok",
     "timestamp": 1720148587857,
     "user": {
      "displayName": "pujan bhatt",
      "userId": "08540859683408472730"
     },
     "user_tz": 240
    },
    "id": "EsTUxhcN2EKw"
   },
   "outputs": [],
   "source": [
    "combined_arrest_data = combined_arrest_data.withColumn('Cross Street', when(col('Cross Street').isNull(), 'NAN').otherwise(col('Cross Street')))\n",
    "# Fill missing values with an empty string\n",
    "combined_arrest_data = combined_arrest_data.na.fill('NAN')"
   ]
  },
  {
   "cell_type": "code",
   "execution_count": 61,
   "metadata": {
    "colab": {
     "base_uri": "https://localhost:8080/"
    },
    "executionInfo": {
     "elapsed": 6462,
     "status": "ok",
     "timestamp": 1720148604857,
     "user": {
      "displayName": "pujan bhatt",
      "userId": "08540859683408472730"
     },
     "user_tz": 240
    },
    "id": "RG9ab6qA2Jad",
    "outputId": "9d82c292-48f4-4c86-b404-106b64f6c241"
   },
   "outputs": [
    {
     "name": "stdout",
     "output_type": "stream",
     "text": [
      "+---------+-----------+-----------+----+-------+---------+------------------+---+--------+----------------+----------+------------------+------------+------------+-------+---------+--------------------+---------+---------+\n",
      "|Report ID|Report Type|Arrest Date|Time|Area ID|Area Name|Reporting District|Age|Sex Code|Arrest Type Code|    Charge|Charge Description|     Address|Cross Street|    LAT|      LON|            Location| Latitude|Longitude|\n",
      "+---------+-----------+-----------+----+-------+---------+------------------+---+--------+----------------+----------+------------------+------------+------------+-------+---------+--------------------+---------+---------+\n",
      "|100629383|        RFC| 12/09/2010|1945|     06|Hollywood|              0647| 20|       M|               M|41.27CLAMC|DRINKING IN PUBLIC|   GORDON ST|   SUNSET BL|34.0981|-118.3196|POINT (-118.3196 ...|-118.3196|  34.0981|\n",
      "|100629384|        RFC| 12/09/2010|1845|     06|Hollywood|              0648| 20|       M|               M|41.27CLAMC|DRINKING IN PUBLIC|  CARLTON WY|  WESTERN AV|34.1005|-118.3093|POINT (-118.3093 ...|-118.3093|  34.1005|\n",
      "|100629386|        RFC| 12/09/2010|1845|     06|Hollywood|              0648| 18|       M|               M|41.27CLAMC|DRINKING IN PUBLIC|  CARLTON WY|  WESTERN AV|34.1005|-118.3093|POINT (-118.3093 ...|-118.3093|  34.1005|\n",
      "|100629387|        RFC| 12/09/2010|2355|     06|Hollywood|              0665| 21|       F|               M|41.27CLAMC|DRINKING IN PUBLIC|  LAS PALMAS|SANTA MONICA|34.0907|-118.3363|POINT (-118.3363 ...|-118.3363|  34.0907|\n",
      "|100629388|        RFC| 12/09/2010|2335|     06|Hollywood|              0637| 19|       M|               M|41.27CLAMC|DRINKING IN PUBLIC|1700 VINE ST|            |34.1016|-118.3267|POINT (-118.3267 ...|-118.3267|  34.1016|\n",
      "+---------+-----------+-----------+----+-------+---------+------------------+---+--------+----------------+----------+------------------+------------+------------+-------+---------+--------------------+---------+---------+\n",
      "only showing top 5 rows\n",
      "\n"
     ]
    }
   ],
   "source": [
    "# Show some results to verify final DataFrame\n",
    "combined_arrest_data.show(5)"
   ]
  },
  {
   "cell_type": "code",
   "execution_count": 62,
   "metadata": {},
   "outputs": [],
   "source": [
    "from pyspark.sql.functions import regexp_replace\n",
    "# Transform the 'Date Rptd' column to remove the time part\n",
    "combined_arrest_data = combined_arrest_data.withColumn(\n",
    "    \"Arrest Date\",\n",
    "    regexp_replace(\"Arrest Date\", r\"\\s\\d{2}:\\d{2}:\\d{2}\\s[APM]{2}\", \"\")\n",
    ")\n"
   ]
  },
  {
   "cell_type": "code",
   "execution_count": 66,
   "metadata": {},
   "outputs": [
    {
     "name": "stdout",
     "output_type": "stream",
     "text": [
      "+---------+-----------+-----------+----+-------+---------+------------------+---+--------+----------------+-----------+------------------+-----------------+------------+-------+---------+--------------------+---------+---------+\n",
      "|Report ID|Report Type|Arrest Date|Time|Area ID|Area Name|Reporting District|Age|Sex Code|Arrest Type Code|     Charge|Charge Description|          Address|Cross Street|    LAT|      LON|            Location| Latitude|Longitude|\n",
      "+---------+-----------+-----------+----+-------+---------+------------------+---+--------+----------------+-----------+------------------+-----------------+------------+-------+---------+--------------------+---------+---------+\n",
      "|100629383|        RFC| 12/09/2010|1945|     06|Hollywood|              0647| 20|       M|               M| 41.27CLAMC|DRINKING IN PUBLIC|        GORDON ST|   SUNSET BL|34.0981|-118.3196|POINT (-118.3196 ...|-118.3196|  34.0981|\n",
      "|100629384|        RFC| 12/09/2010|1845|     06|Hollywood|              0648| 20|       M|               M| 41.27CLAMC|DRINKING IN PUBLIC|       CARLTON WY|  WESTERN AV|34.1005|-118.3093|POINT (-118.3093 ...|-118.3093|  34.1005|\n",
      "|100629386|        RFC| 12/09/2010|1845|     06|Hollywood|              0648| 18|       M|               M| 41.27CLAMC|DRINKING IN PUBLIC|       CARLTON WY|  WESTERN AV|34.1005|-118.3093|POINT (-118.3093 ...|-118.3093|  34.1005|\n",
      "|100629387|        RFC| 12/09/2010|2355|     06|Hollywood|              0665| 21|       F|               M| 41.27CLAMC|DRINKING IN PUBLIC|       LAS PALMAS|SANTA MONICA|34.0907|-118.3363|POINT (-118.3363 ...|-118.3363|  34.0907|\n",
      "|100629388|        RFC| 12/09/2010|2335|     06|Hollywood|              0637| 19|       M|               M| 41.27CLAMC|DRINKING IN PUBLIC|     1700 VINE ST|            |34.1016|-118.3267|POINT (-118.3267 ...|-118.3267|  34.1016|\n",
      "|100629389|        RFC| 12/09/2010|2305|     06|Hollywood|              0647| 19|       M|               M| 41.27CLAMC|DRINKING IN PUBLIC|           ARGYLE|HOLLYWOOD BL|34.1016|-118.3252|POINT (-118.3252 ...|-118.3252|  34.1016|\n",
      "|100629390|        RFC| 12/09/2010|2040|     06|Hollywood|              0665| 22|       M|               M| 41.27CLAMC|DRINKING IN PUBLIC|       LAS PALMAS|   LEXINGTON|34.0926|-118.3363|POINT (-118.3363 ...|-118.3363|  34.0926|\n",
      "|121919465|        RFC| 09/08/2012|1705|     19|  Mission|              1985| 40|       M|               M| 25620(A)BP|                  |           TOBIAS|       CHASE|34.2248|-118.4516|POINT (-118.4516 ...|-118.4516|  34.2248|\n",
      "|100629391|        RFC| 12/09/2010|2040|     06|Hollywood|              0665| 21|       F|               M| 41.27CLAMC|DRINKING IN PUBLIC|       LAS PALMAS|   LEXINGTON|34.0926|-118.3363|POINT (-118.3363 ...|-118.3363|  34.0926|\n",
      "|100629392|        RFC| 12/09/2010|2040|     06|Hollywood|              0665| 23|       F|               M| 41.27CLAMC|DRINKING IN PUBLIC|       LAS PALMAS|   LEXINGTON|34.0926|-118.3363|POINT (-118.3363 ...|-118.3363|  34.0926|\n",
      "|100629393|        RFC| 12/09/2010|1415|     06|Hollywood|              0666| 44|       M|               M| 41.27CLAMC|DRINKING IN PUBLIC| 6300 W SUNSET BL|            | 34.098|-118.3267|POINT (-118.3267 ...|-118.3267|   34.098|\n",
      "|100629394|        RFC| 12/07/2010|1510|     06|Hollywood|              0647| 27|       M|               M| 41.27CLAMC|DRINKING IN PUBLIC|6200 HOLLYWOOD BL|            |34.1017|-118.3245|POINT (-118.3245 ...|-118.3245|  34.1017|\n",
      "|122111568|        RFC| 06/07/2012|2030|     21|  Topanga|              2187| 50|       F|               M|103.205.1LA|                  | 21700 VENTURA BL|            |34.1683|-118.6007|POINT (-118.6007 ...|-118.6007|  34.1683|\n",
      "|100629395|        RFC| 12/07/2010|1545|     06|Hollywood|              0646| 44|       M|               M| 41.27CLAMC|DRINKING IN PUBLIC| 6500 W SUNSET BL|            | 34.098|-118.3314|POINT (-118.3314 ...|-118.3314|   34.098|\n",
      "|130215858|        RFC| 07/13/2013|1820|     02|  Rampart|              0275| 63|       F|               M| 25620(A)BP|                  |          11TH ST|      BEACON|34.0483|-118.2763|POINT (-118.2763 ...|-118.2763|  34.0483|\n",
      "|100629396|        RFC| 12/08/2010|0840|     06|Hollywood|              0637| 50|       M|               M| 41.27CLAMC|DRINKING IN PUBLIC| 1700 N ARGYLE AV|            |34.1016|-118.3252|POINT (-118.3252 ...|-118.3252|  34.1016|\n",
      "|100629399|        RFC| 12/08/2010|1425|     06|Hollywood|              0666| 67|       M|               M| 41.27CLAMC|DRINKING IN PUBLIC|          VINE ST|  DE LONGPRE|34.0962|-118.3267|POINT (-118.3267 ...|-118.3267|  34.0962|\n",
      "|100629404|        RFC| 12/10/2010|0940|     06|Hollywood|              0637| 40|       M|               M| 41.27CLAMC|DRINKING IN PUBLIC|6000 HOLLYWOOD BL|            |34.1017|-118.3202|POINT (-118.3202 ...|-118.3202|  34.1017|\n",
      "|100629405|        RFC| 12/08/2010|1715|     06|Hollywood|              0636| 22|       M|               M| 41.27CLAMC|DRINKING IN PUBLIC|   1700 WILCOX AV|            |34.1016| -118.331|POINT (-118.331 3...| -118.331|  34.1016|\n",
      "|100629406|        RFC| 12/08/2010|1420|     06|Hollywood|              0645| 51|       M|               M| 41.27CLAMC|DRINKING IN PUBLIC|     HOLLYWOOD BL| HIGHLAND AV|34.1016|-118.3387|POINT (-118.3387 ...|-118.3387|  34.1016|\n",
      "+---------+-----------+-----------+----+-------+---------+------------------+---+--------+----------------+-----------+------------------+-----------------+------------+-------+---------+--------------------+---------+---------+\n",
      "only showing top 20 rows\n",
      "\n"
     ]
    }
   ],
   "source": [
    "from pyspark.sql import SparkSession\n",
    "from pyspark.sql.functions import col, regexp_replace\n",
    "\n",
    "# Assuming you have already created your SparkSession and loaded your DataFrame 'df'\n",
    "\n",
    "# Define patterns to replace\n",
    "patterns_to_replace = r'[\"\\\\/]'\n",
    "\n",
    "# Apply regexp_replace to filter out rows where any column value contains the specified patterns\n",
    "filtered_df = combined_arrest_data.filter(\n",
    "    ~col(\"Charge\").rlike(patterns_to_replace)\n",
    "    & ~col(\"Charge Description\").rlike(patterns_to_replace)\n",
    "    & ~col(\"Address\").rlike(patterns_to_replace)\n",
    "    & ~col(\"Cross Street\").rlike(patterns_to_replace)\n",
    "    & ~col(\"LAT\").rlike(patterns_to_replace)\n",
    "    & ~col(\"LON\").rlike(patterns_to_replace)\n",
    "    & ~col(\"Location\").rlike(patterns_to_replace)\n",
    "    & ~col(\"Latitude\").rlike(patterns_to_replace)\n",
    "    & ~col(\"Longitude\").rlike(patterns_to_replace)\n",
    "    # Add more columns as needed\n",
    ")\n",
    "\n",
    "# Show the filtered DataFrame\n",
    "filtered_df.show()\n"
   ]
  },
  {
   "cell_type": "code",
   "execution_count": 68,
   "metadata": {},
   "outputs": [
    {
     "name": "stdout",
     "output_type": "stream",
     "text": [
      "+---------+-----------+-----------+----+-------+---------+------------------+---+--------+----------------+----------+------------------+------------+---------------+-------+---------+--------------------+---------+---------+\n",
      "|Report ID|Report Type|Arrest Date|Time|Area ID|Area Name|Reporting District|Age|Sex Code|Arrest Type Code|    Charge|Charge Description|     Address|   Cross Street|    LAT|      LON|            Location| Latitude|Longitude|\n",
      "+---------+-----------+-----------+----+-------+---------+------------------+---+--------+----------------+----------+------------------+------------+---------------+-------+---------+--------------------+---------+---------+\n",
      "|100629383|        RFC| 12/09/2010|1945|     06|Hollywood|              0647| 20|       M|               M|41.27CLAMC|DRINKING IN PUBLIC|   GORDON ST|      SUNSET BL|34.0981|-118.3196|POINT (-118.3196 ...|-118.3196|  34.0981|\n",
      "|100629384|        RFC| 12/09/2010|1845|     06|Hollywood|              0648| 20|       M|               M|41.27CLAMC|DRINKING IN PUBLIC|  CARLTON WY|     WESTERN AV|34.1005|-118.3093|POINT (-118.3093 ...|-118.3093|  34.1005|\n",
      "|100629386|        RFC| 12/09/2010|1845|     06|Hollywood|              0648| 18|       M|               M|41.27CLAMC|DRINKING IN PUBLIC|  CARLTON WY|     WESTERN AV|34.1005|-118.3093|POINT (-118.3093 ...|-118.3093|  34.1005|\n",
      "|100629387|        RFC| 12/09/2010|2355|     06|Hollywood|              0665| 21|       F|               M|41.27CLAMC|DRINKING IN PUBLIC|  LAS PALMAS|   SANTA MONICA|34.0907|-118.3363|POINT (-118.3363 ...|-118.3363|  34.0907|\n",
      "|100629389|        RFC| 12/09/2010|2305|     06|Hollywood|              0647| 19|       M|               M|41.27CLAMC|DRINKING IN PUBLIC|      ARGYLE|   HOLLYWOOD BL|34.1016|-118.3252|POINT (-118.3252 ...|-118.3252|  34.1016|\n",
      "|100629390|        RFC| 12/09/2010|2040|     06|Hollywood|              0665| 22|       M|               M|41.27CLAMC|DRINKING IN PUBLIC|  LAS PALMAS|      LEXINGTON|34.0926|-118.3363|POINT (-118.3363 ...|-118.3363|  34.0926|\n",
      "|100629391|        RFC| 12/09/2010|2040|     06|Hollywood|              0665| 21|       F|               M|41.27CLAMC|DRINKING IN PUBLIC|  LAS PALMAS|      LEXINGTON|34.0926|-118.3363|POINT (-118.3363 ...|-118.3363|  34.0926|\n",
      "|100629392|        RFC| 12/09/2010|2040|     06|Hollywood|              0665| 23|       F|               M|41.27CLAMC|DRINKING IN PUBLIC|  LAS PALMAS|      LEXINGTON|34.0926|-118.3363|POINT (-118.3363 ...|-118.3363|  34.0926|\n",
      "|100629399|        RFC| 12/08/2010|1425|     06|Hollywood|              0666| 67|       M|               M|41.27CLAMC|DRINKING IN PUBLIC|     VINE ST|     DE LONGPRE|34.0962|-118.3267|POINT (-118.3267 ...|-118.3267|  34.0962|\n",
      "|100629406|        RFC| 12/08/2010|1420|     06|Hollywood|              0645| 51|       M|               M|41.27CLAMC|DRINKING IN PUBLIC|HOLLYWOOD BL|    HIGHLAND AV|34.1016|-118.3387|POINT (-118.3387 ...|-118.3387|  34.1016|\n",
      "|100629408|        RFC| 12/08/2010|2245|     06|Hollywood|              0665| 34|       M|               M|41.27CLAMC|DRINKING IN PUBLIC|  LAS PALMAS|SANTA MONICA BL|34.0907|-118.3363|POINT (-118.3363 ...|-118.3363|  34.0907|\n",
      "|100629409|        RFC| 12/08/2010|2230|     06|Hollywood|              0665| 25|       M|               M|41.27CLAMC|DRINKING IN PUBLIC|  LAS PALMAS|SANTA MONICA BL|34.0907|-118.3363|POINT (-118.3363 ...|-118.3363|  34.0907|\n",
      "|100629412|        RFC| 12/08/2010|2120|     06|Hollywood|              0665| 22|       F|               M|41.27CLAMC|DRINKING IN PUBLIC|   LEXINGTON|     LAS PALMAS|34.0926|-118.3363|POINT (-118.3363 ...|-118.3363|  34.0926|\n",
      "|100629415|        RFC| 12/09/2010|0240|     06|Hollywood|              0647| 24|       M|               M|41.27CLAMC|DRINKING IN PUBLIC|      ARGYLE|          YUCCA|34.1037|-118.3252|POINT (-118.3252 ...|-118.3252|  34.1037|\n",
      "|  2883995|    BOOKING| 09/21/2011|1755|     21|  Topanga|              2126| 20|       M|               M|     242PC|           BATTERY|     SATICOY|         CANOGA|34.2083|-118.5975|POINT (-118.5975 ...|-118.5975|  34.2083|\n",
      "|100629504|        RFC| 12/12/2010|1420|     06|Hollywood|              0647| 49|       M|               M|41.27CLAMC|DRINKING IN PUBLIC|      ARGYLE|      HOLLYWOOD|34.1016|-118.3252|POINT (-118.3252 ...|-118.3252|  34.1016|\n",
      "|100629506|        RFC| 12/12/2010|1530|     06|Hollywood|              0645| 27|       M|               M|41.27CLAMC|DRINKING IN PUBLIC|      SUNSET|        LA BREA| 34.098|-118.3441|POINT (-118.3441 ...|-118.3441|   34.098|\n",
      "|100629549|        RFC| 12/10/2010|2354|     06|Hollywood|              0646| 19|       F|               M|41.27CLAMC|DRINKING IN PUBLIC|    SELMA AV|       CHEROKEE|34.0997| -118.335|POINT (-118.335 3...| -118.335|  34.0997|\n",
      "|100629550|        RFC| 12/12/2010|0034|     06|Hollywood|              0645| 23|       M|               M|41.27CLAMC|DRINKING IN PUBLIC| HAWTHORN AV|    HIGHLAND AV|34.1004|-118.3387|POINT (-118.3387 ...|-118.3387|  34.1004|\n",
      "|100629551|        RFC| 12/10/2010|2355|     06|Hollywood|              0646| 20|       M|               M|41.27CLAMC|DRINKING IN PUBLIC|       SELMA|       CHEROKEE|34.0997| -118.335|POINT (-118.335 3...| -118.335|  34.0997|\n",
      "+---------+-----------+-----------+----+-------+---------+------------------+---+--------+----------------+----------+------------------+------------+---------------+-------+---------+--------------------+---------+---------+\n",
      "only showing top 20 rows\n",
      "\n"
     ]
    }
   ],
   "source": [
    "# Filter out rows where all columns are null or empty\n",
    "filtered_df = filtered_df.filter(\n",
    "    ~(col(\"Report ID\").isNull() | col(\"Charge\").eqNullSafe(\"\"))\n",
    "    & ~(col(\"Report Type\").isNull() | col(\"Charge Description\").eqNullSafe(\"\"))\n",
    "    & ~(col(\"Arrest Date\").isNull() | col(\"Charge Description\").eqNullSafe(\"\"))\n",
    "    & ~(col(\"Time\").isNull() | col(\"Charge Description\").eqNullSafe(\"\"))\n",
    "    & ~(col(\"Area ID\").isNull() | col(\"Charge Description\").eqNullSafe(\"\"))\n",
    "    & ~(col(\"Area Name\").isNull() | col(\"Charge Description\").eqNullSafe(\"\"))\n",
    "    & ~(col(\"Reporting District\").isNull() | col(\"Charge Description\").eqNullSafe(\"\"))\n",
    "    & ~(col(\"Age\").isNull() | col(\"Charge Description\").eqNullSafe(\"\"))\n",
    "    & ~(col(\"Sex Code\").isNull() | col(\"Charge Description\").eqNullSafe(\"\"))\n",
    "    & ~(col(\"Arrest Type Code\").isNull() | col(\"Charge Description\").eqNullSafe(\"\"))\n",
    "    & ~(col(\"Charge\").isNull() | col(\"Charge Description\").eqNullSafe(\"\"))\n",
    "    & ~(col(\"Charge Description\").isNull() | col(\"Charge Description\").eqNullSafe(\"\"))\n",
    "    & ~(col(\"Address\").isNull() | col(\"Address\").eqNullSafe(\"\"))\n",
    "    & ~(col(\"Cross Street\").isNull() | col(\"Cross Street\").eqNullSafe(\"\"))\n",
    "    & ~(col(\"LAT\").isNull() | col(\"LAT\").eqNullSafe(\"\"))\n",
    "    & ~(col(\"LON\").isNull() | col(\"LON\").eqNullSafe(\"\"))\n",
    "    & ~(col(\"Location\").isNull() | col(\"Location\").eqNullSafe(\"\"))\n",
    "    & ~(col(\"Latitude\").isNull() | col(\"Latitude\").eqNullSafe(\"\"))\n",
    "    & ~(col(\"Longitude\").isNull() | col(\"Longitude\").eqNullSafe(\"\"))\n",
    "    # Add more columns as needed\n",
    ")\n",
    "# Show the filtered DataFrame\n",
    "filtered_df.show()"
   ]
  },
  {
   "cell_type": "code",
   "execution_count": 71,
   "metadata": {
    "executionInfo": {
     "elapsed": 13,
     "status": "ok",
     "timestamp": 1720148795757,
     "user": {
      "displayName": "pujan bhatt",
      "userId": "08540859683408472730"
     },
     "user_tz": 240
    },
    "id": "RiBff6H32oQ7"
   },
   "outputs": [],
   "source": [
    "# Define the output path where you want to save the CSV file locally\n",
    "output_path = r\"C:\\Users\\16395\\Downloads\\final project\\bigdatasource\\LAPD\\sqlserver_pyspark_transformation\\output.csv\""
   ]
  },
  {
   "cell_type": "code",
   "execution_count": 72,
   "metadata": {
    "executionInfo": {
     "elapsed": 10,
     "status": "ok",
     "timestamp": 1720148827571,
     "user": {
      "displayName": "pujan bhatt",
      "userId": "08540859683408472730"
     },
     "user_tz": 240
    },
    "id": "usnfF69G26a_"
   },
   "outputs": [],
   "source": [
    "# Reduce the number of partitions to 1 to create a single CSV file\n",
    "combined_arrest_data = combined_arrest_data.coalesce(1)"
   ]
  },
  {
   "cell_type": "code",
   "execution_count": 73,
   "metadata": {
    "executionInfo": {
     "elapsed": 44638,
     "status": "ok",
     "timestamp": 1720148893818,
     "user": {
      "displayName": "pujan bhatt",
      "userId": "08540859683408472730"
     },
     "user_tz": 240
    },
    "id": "fUKgHfpF3CgS"
   },
   "outputs": [],
   "source": [
    "# Save the DataFrame to a single CSV file on your local machine\n",
    "combined_arrest_data.write.csv(output_path, mode=\"overwrite\", header=True)"
   ]
  },
  {
   "cell_type": "code",
   "execution_count": null,
   "metadata": {},
   "outputs": [],
   "source": [
    "combined_arrest"
   ]
  }
 ],
 "metadata": {
  "colab": {
   "authorship_tag": "ABX9TyNEtHS+lX8OlgwFhKxNffL9",
   "provenance": []
  },
  "kernelspec": {
   "display_name": "Python 3 (ipykernel)",
   "language": "python",
   "name": "python3"
  },
  "language_info": {
   "codemirror_mode": {
    "name": "ipython",
    "version": 3
   },
   "file_extension": ".py",
   "mimetype": "text/x-python",
   "name": "python",
   "nbconvert_exporter": "python",
   "pygments_lexer": "ipython3",
   "version": "3.11.5"
  }
 },
 "nbformat": 4,
 "nbformat_minor": 1
}
