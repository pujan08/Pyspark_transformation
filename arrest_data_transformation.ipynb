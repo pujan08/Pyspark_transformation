{
 "cells": [
  {
   "cell_type": "code",
   "execution_count": 1,
   "id": "12963e87",
   "metadata": {},
   "outputs": [],
   "source": [
    "import pandas as pd"
   ]
  },
  {
   "cell_type": "code",
   "execution_count": 6,
   "id": "657da503",
   "metadata": {},
   "outputs": [],
   "source": [
    "file_path_1 = r'C:\\Users\\16395\\Downloads\\final project\\bigdatasource\\LAPD\\arrest_data\\before_transformation\\Arrest_Data_from_2010_to_2019.csv'\n",
    "file_path_2 = r'C:\\Users\\16395\\Downloads\\final project\\bigdatasource\\LAPD\\arrest_data\\before_transformation\\Arrest_Data_from_2020_to_Present.csv'"
   ]
  },
  {
   "cell_type": "code",
   "execution_count": 7,
   "id": "6a9826e6",
   "metadata": {},
   "outputs": [],
   "source": [
    "arrest_data_2010_to_2019 = pd.read_csv(file_path_1)\n",
    "arrest_data_2020_to_present = pd.read_csv(file_path_2)\n"
   ]
  },
  {
   "cell_type": "code",
   "execution_count": 8,
   "id": "f54e462e",
   "metadata": {},
   "outputs": [
    {
     "name": "stdout",
     "output_type": "stream",
     "text": [
      "Arrest Data from 2010 to 2019:\n",
      "   Report ID Report Type Arrest Date    Time  Area ID  Area Name  \\\n",
      "0    2377805     BOOKING  06/22/2010  1845.0       16   Foothill   \n",
      "1  121920046         RFC  09/28/2012   930.0       19    Mission   \n",
      "2  101820989         RFC  10/20/2010   700.0       18  Southeast   \n",
      "3   90712341         RFC  03/10/2011   940.0        7   Wilshire   \n",
      "4  121909585         RFC  04/01/2012  1715.0       19    Mission   \n",
      "\n",
      "   Reporting District  Age Sex Code Descent Code  ...  \\\n",
      "0                1664   46        F            W  ...   \n",
      "1                1998   60        M            H  ...   \n",
      "2                1829   14        M            H  ...   \n",
      "3                 776   45        M            B  ...   \n",
      "4                1993   37        M            H  ...   \n",
      "\n",
      "       Disposition Description                                  Address  \\\n",
      "0  MISDEMEANOR COMPLAINT FILED                                PENDLETON   \n",
      "1  MISDEMEANOR COMPLAINT FILED  7600    WOODMAN                      AV   \n",
      "2                          NaN  7200    QUAIL                        DR   \n",
      "3  MISDEMEANOR COMPLAINT FILED  4500 W  WASHINGTON                   BL   \n",
      "4  MISDEMEANOR COMPLAINT FILED  8100    SEPULVEDA                    PL   \n",
      "\n",
      "  Cross Street      LAT       LON                   Location  \\\n",
      "0     GLENOAKS  34.2375 -118.3745  POINT (-118.3745 34.2375)   \n",
      "1          NaN  34.2111 -118.4309  POINT (-118.4309 34.2111)   \n",
      "2          NaN  34.1025 -118.2091  POINT (-118.2091 34.1025)   \n",
      "3          NaN  34.0399 -118.3375  POINT (-118.3375 34.0399)   \n",
      "4          NaN  34.2208 -118.4662  POINT (-118.4662 34.2208)   \n",
      "\n",
      "             Booking Date Booking Time   Booking Location  \\\n",
      "0  06/22/2010 12:00:00 AM       2108.0  VALLEY - JAIL DIV   \n",
      "1                     NaN          NaN                NaN   \n",
      "2                     NaN          NaN                NaN   \n",
      "3                     NaN          NaN                NaN   \n",
      "4                     NaN          NaN                NaN   \n",
      "\n",
      "   Booking Location Code  \n",
      "0                 4279.0  \n",
      "1                    NaN  \n",
      "2                    NaN  \n",
      "3                    NaN  \n",
      "4                    NaN  \n",
      "\n",
      "[5 rows x 25 columns]\n"
     ]
    }
   ],
   "source": [
    "print(\"Arrest Data from 2010 to 2019:\")\n",
    "print(arrest_data_2010_to_2019.head())"
   ]
  },
  {
   "cell_type": "code",
   "execution_count": 9,
   "id": "06f2c40e",
   "metadata": {},
   "outputs": [
    {
     "name": "stdout",
     "output_type": "stream",
     "text": [
      "\n",
      "Arrest Data from 2020 to Present:\n",
      "   Report ID Report Type             Arrest Date    Time  Area ID  \\\n",
      "0    6636966     BOOKING  07/06/2023 12:00:00 AM  2250.0        8   \n",
      "1    6637119     BOOKING  07/07/2023 12:00:00 AM  1000.0        3   \n",
      "2    6624479     BOOKING  06/15/2023 12:00:00 AM  1850.0        7   \n",
      "3    6636128     BOOKING  07/05/2023 12:00:00 AM  1550.0        2   \n",
      "4    6636650     BOOKING  07/06/2023 12:00:00 AM  1335.0       12   \n",
      "\n",
      "     Area Name  Reporting District  Age Sex Code Descent Code  ...  \\\n",
      "0      West LA                 817   46        M            B  ...   \n",
      "1    Southwest                 396   39        M            B  ...   \n",
      "2     Wilshire                 724   33        F            H  ...   \n",
      "3      Rampart                 218   30        F            B  ...   \n",
      "4  77th Street                1258   31        M            H  ...   \n",
      "\n",
      "       Disposition Description                                  Address  \\\n",
      "0  MISDEMEANOR COMPLAINT FILED   900    GAYLEY                       AV   \n",
      "1  MISDEMEANOR COMPLAINT FILED          40TH                         PL   \n",
      "2  MISDEMEANOR COMPLAINT FILED   100    THE GROVE                    DR   \n",
      "3  MISDEMEANOR COMPLAINT FILED  1000    ECHO PARK                    AV   \n",
      "4                          NaN                         7800 S  BROADWAY   \n",
      "\n",
      "  Cross Street      LAT       LON                   Location  \\\n",
      "0          NaN  34.0637 -118.4482  POINT (-118.4482 34.0637)   \n",
      "1      VERMONT  34.0100 -118.2915    POINT (-118.2915 34.01)   \n",
      "2          NaN  34.0736 -118.3563  POINT (-118.3563 34.0736)   \n",
      "3          NaN  34.0741 -118.2590   POINT (-118.259 34.0741)   \n",
      "4          NaN  33.9689 -118.2783  POINT (-118.2783 33.9689)   \n",
      "\n",
      "             Booking Date Booking Time       Booking Location  \\\n",
      "0  07/07/2023 12:00:00 AM        143.0  METRO - JAIL DIVISION   \n",
      "1  07/07/2023 12:00:00 AM       1156.0                77TH ST   \n",
      "2  06/15/2023 12:00:00 AM       2251.0                77TH ST   \n",
      "3  07/05/2023 12:00:00 AM       1940.0  METRO - JAIL DIVISION   \n",
      "4  07/06/2023 12:00:00 AM       1345.0                77TH ST   \n",
      "\n",
      "   Booking Location Code  \n",
      "0                 4273.0  \n",
      "1                 4212.0  \n",
      "2                 4212.0  \n",
      "3                 4273.0  \n",
      "4                 4212.0  \n",
      "\n",
      "[5 rows x 25 columns]\n"
     ]
    }
   ],
   "source": [
    "print(\"\\nArrest Data from 2020 to Present:\")\n",
    "print(arrest_data_2020_to_present.head())"
   ]
  },
  {
   "cell_type": "code",
   "execution_count": 11,
   "id": "ee7497c7",
   "metadata": {},
   "outputs": [],
   "source": [
    "combined_arrest_data = pd.concat([arrest_data_2010_to_2019, arrest_data_2020_to_present], ignore_index=False)"
   ]
  },
  {
   "cell_type": "code",
   "execution_count": 12,
   "id": "2efa3798",
   "metadata": {},
   "outputs": [
    {
     "name": "stdout",
     "output_type": "stream",
     "text": [
      "\n",
      "Combined Arrest Data:\n",
      "   Report ID Report Type Arrest Date    Time  Area ID  Area Name  \\\n",
      "0    2377805     BOOKING  06/22/2010  1845.0       16   Foothill   \n",
      "1  121920046         RFC  09/28/2012   930.0       19    Mission   \n",
      "2  101820989         RFC  10/20/2010   700.0       18  Southeast   \n",
      "3   90712341         RFC  03/10/2011   940.0        7   Wilshire   \n",
      "4  121909585         RFC  04/01/2012  1715.0       19    Mission   \n",
      "\n",
      "   Reporting District  Age Sex Code Descent Code  ...  \\\n",
      "0                1664   46        F            W  ...   \n",
      "1                1998   60        M            H  ...   \n",
      "2                1829   14        M            H  ...   \n",
      "3                 776   45        M            B  ...   \n",
      "4                1993   37        M            H  ...   \n",
      "\n",
      "       Disposition Description                                  Address  \\\n",
      "0  MISDEMEANOR COMPLAINT FILED                                PENDLETON   \n",
      "1  MISDEMEANOR COMPLAINT FILED  7600    WOODMAN                      AV   \n",
      "2                          NaN  7200    QUAIL                        DR   \n",
      "3  MISDEMEANOR COMPLAINT FILED  4500 W  WASHINGTON                   BL   \n",
      "4  MISDEMEANOR COMPLAINT FILED  8100    SEPULVEDA                    PL   \n",
      "\n",
      "  Cross Street      LAT       LON                   Location  \\\n",
      "0     GLENOAKS  34.2375 -118.3745  POINT (-118.3745 34.2375)   \n",
      "1          NaN  34.2111 -118.4309  POINT (-118.4309 34.2111)   \n",
      "2          NaN  34.1025 -118.2091  POINT (-118.2091 34.1025)   \n",
      "3          NaN  34.0399 -118.3375  POINT (-118.3375 34.0399)   \n",
      "4          NaN  34.2208 -118.4662  POINT (-118.4662 34.2208)   \n",
      "\n",
      "             Booking Date Booking Time   Booking Location  \\\n",
      "0  06/22/2010 12:00:00 AM       2108.0  VALLEY - JAIL DIV   \n",
      "1                     NaN          NaN                NaN   \n",
      "2                     NaN          NaN                NaN   \n",
      "3                     NaN          NaN                NaN   \n",
      "4                     NaN          NaN                NaN   \n",
      "\n",
      "   Booking Location Code  \n",
      "0                 4279.0  \n",
      "1                    NaN  \n",
      "2                    NaN  \n",
      "3                    NaN  \n",
      "4                    NaN  \n",
      "\n",
      "[5 rows x 25 columns]\n"
     ]
    }
   ],
   "source": [
    "print(\"\\nCombined Arrest Data:\")\n",
    "print(combined_arrest_data.head())"
   ]
  },
  {
   "cell_type": "code",
   "execution_count": 16,
   "id": "25cf72e8",
   "metadata": {},
   "outputs": [],
   "source": [
    "columns_to_drop = ['Descent Code', 'Charge Group Code', 'Charge Group Description', 'Disposition Description', 'Booking Date', 'Booking Time', 'Booking Location', 'Booking Location Code']\n",
    "combined_arrest_data.drop(columns=columns_to_drop, inplace=True)"
   ]
  },
  {
   "cell_type": "code",
   "execution_count": 17,
   "id": "50405c5f",
   "metadata": {},
   "outputs": [],
   "source": [
    "# Data Cleaning\n",
    "combined_arrest_data.fillna(method='ffill', inplace=True)\n",
    "combined_arrest_data['Arrest Date'] = pd.to_datetime(combined_arrest_data['Arrest Date'], errors='coerce')\n",
    "combined_arrest_data['Time'] = pd.to_numeric(combined_arrest_data['Time'], errors='coerce')\n",
    "combined_arrest_data.drop_duplicates(inplace=True)"
   ]
  },
  {
   "cell_type": "code",
   "execution_count": 18,
   "id": "7b88b86b",
   "metadata": {},
   "outputs": [],
   "source": [
    "# Feature Engineering\n",
    "combined_arrest_data['Year'] = combined_arrest_data['Arrest Date'].dt.year\n",
    "combined_arrest_data['Month'] = combined_arrest_data['Arrest Date'].dt.month\n",
    "combined_arrest_data['Latitude'] = combined_arrest_data['Location'].apply(lambda x: float(x.split()[1][1:]) if pd.notna(x) else None)\n",
    "combined_arrest_data['Longitude'] = combined_arrest_data['Location'].apply(lambda x: float(x.split()[2][:-1]) if pd.notna(x) else None)"
   ]
  },
  {
   "cell_type": "code",
   "execution_count": 19,
   "id": "7d41627a",
   "metadata": {},
   "outputs": [],
   "source": [
    "# Data Aggregation\n",
    "yearly_arrests = combined_arrest_data.groupby(['Year', 'Area Name']).size().reset_index(name='Arrest Count')\n",
    "age_summary = combined_arrest_data['Age'].describe()"
   ]
  },
  {
   "cell_type": "code",
   "execution_count": 20,
   "id": "a30cbb35",
   "metadata": {},
   "outputs": [],
   "source": [
    "# Function to clean address and cross street columns\n",
    "def clean_address(address):\n",
    "    if pd.isna(address):\n",
    "        return address\n",
    "    return ' '.join(address.split())\n",
    "\n",
    "# Apply the cleaning function to the Address and Cross Street columns\n",
    "combined_arrest_data['Address'] = combined_arrest_data['Address'].apply(clean_address)\n",
    "combined_arrest_data['Cross Street'] = combined_arrest_data['Cross Street'].apply(clean_address)"
   ]
  },
  {
   "cell_type": "code",
   "execution_count": 21,
   "id": "51863b48",
   "metadata": {},
   "outputs": [],
   "source": [
    "output_file_path = r'C:\\Users\\16395\\Downloads\\final project\\bigdatasource\\LAPD\\arrest_data\\after_transformation\\Combined_Arrest_Data.csv'"
   ]
  },
  {
   "cell_type": "code",
   "execution_count": 22,
   "id": "912142df",
   "metadata": {},
   "outputs": [],
   "source": [
    "combined_arrest_data.to_csv(output_file_path, index=False)"
   ]
  },
  {
   "cell_type": "code",
   "execution_count": 23,
   "id": "edf83f88",
   "metadata": {},
   "outputs": [
    {
     "name": "stdout",
     "output_type": "stream",
     "text": [
      "Combined CSV file has been created at C:\\Users\\16395\\Downloads\\final project\\bigdatasource\\LAPD\\arrest_data\\after_transformation\\Combined_Arrest_Data.csv\n"
     ]
    }
   ],
   "source": [
    "print(f\"Combined CSV file has been created at {output_file_path}\")"
   ]
  }
 ],
 "metadata": {
  "kernelspec": {
   "display_name": "Python 3 (ipykernel)",
   "language": "python",
   "name": "python3"
  },
  "language_info": {
   "codemirror_mode": {
    "name": "ipython",
    "version": 3
   },
   "file_extension": ".py",
   "mimetype": "text/x-python",
   "name": "python",
   "nbconvert_exporter": "python",
   "pygments_lexer": "ipython3",
   "version": "3.11.5"
  }
 },
 "nbformat": 4,
 "nbformat_minor": 5
}
