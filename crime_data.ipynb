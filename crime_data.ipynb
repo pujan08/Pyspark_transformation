{
 "cells": [
  {
   "cell_type": "code",
   "execution_count": 1,
   "id": "f330ebb3",
   "metadata": {},
   "outputs": [],
   "source": [
    "import pandas as pd\n",
    "import numpy as np"
   ]
  },
  {
   "cell_type": "code",
   "execution_count": 2,
   "id": "84bc8b2c",
   "metadata": {},
   "outputs": [],
   "source": [
    "file_path_1 = r'C:\\Users\\16395\\Downloads\\final project\\bigdatasource\\LAPD\\crime_data\\before_transformation\\Crime_Data_from_2010_to_2019.csv'\n",
    "file_path_2 = r'C:\\Users\\16395\\Downloads\\final project\\bigdatasource\\LAPD\\crime_data\\before_transformation\\Crime_Data_from_2020_to_Present.csv'"
   ]
  },
  {
   "cell_type": "code",
   "execution_count": 3,
   "id": "9ca4ab6b",
   "metadata": {},
   "outputs": [],
   "source": [
    "crime_data_2010_to_2019 = pd.read_csv(file_path_1)\n",
    "crime_data_2020_to_present = pd.read_csv(file_path_2)"
   ]
  },
  {
   "cell_type": "code",
   "execution_count": 4,
   "id": "33d7171a",
   "metadata": {},
   "outputs": [
    {
     "name": "stdout",
     "output_type": "stream",
     "text": [
      "       DR_NO               Date Rptd                DATE OCC  TIME OCC  AREA   \\\n",
      "0    1307355  02/20/2010 12:00:00 AM  02/20/2010 12:00:00 AM      1350     13   \n",
      "1   11401303  09/13/2010 12:00:00 AM  09/12/2010 12:00:00 AM        45     14   \n",
      "2   70309629  08/09/2010 12:00:00 AM  08/09/2010 12:00:00 AM      1515     13   \n",
      "3   90631215  01/05/2010 12:00:00 AM  01/05/2010 12:00:00 AM       150      6   \n",
      "4  100100501  01/03/2010 12:00:00 AM  01/02/2010 12:00:00 AM      2100      1   \n",
      "\n",
      "   AREA NAME  Rpt Dist No  Part 1-2  Crm Cd  \\\n",
      "0     Newton         1385         2     900   \n",
      "1    Pacific         1485         2     740   \n",
      "2     Newton         1324         2     946   \n",
      "3  Hollywood          646         2     900   \n",
      "4    Central          176         1     122   \n",
      "\n",
      "                                         Crm Cd Desc  ... Status  \\\n",
      "0                           VIOLATION OF COURT ORDER  ...     AA   \n",
      "1  VANDALISM - FELONY ($400 & OVER, ALL CHURCH VA...  ...     IC   \n",
      "2                          OTHER MISCELLANEOUS CRIME  ...     IC   \n",
      "3                           VIOLATION OF COURT ORDER  ...     IC   \n",
      "4                                    RAPE, ATTEMPTED  ...     IC   \n",
      "\n",
      "    Status Desc Crm Cd 1 Crm Cd 2  Crm Cd 3 Crm Cd 4  \\\n",
      "0  Adult Arrest    900.0      NaN       NaN      NaN   \n",
      "1   Invest Cont    740.0      NaN       NaN      NaN   \n",
      "2   Invest Cont    946.0      NaN       NaN      NaN   \n",
      "3   Invest Cont    900.0    998.0       NaN      NaN   \n",
      "4   Invest Cont    122.0      NaN       NaN      NaN   \n",
      "\n",
      "                                  LOCATION                     Cross Street  \\\n",
      "0   300 E  GAGE                         AV                              NaN   \n",
      "1          SEPULVEDA                    BL  MANCHESTER                   AV   \n",
      "2  1300 E  21ST                         ST                              NaN   \n",
      "3          CAHUENGA                     BL  HOLLYWOOD                    BL   \n",
      "4          8TH                          ST  SAN PEDRO                    ST   \n",
      "\n",
      "       LAT       LON  \n",
      "0  33.9825 -118.2695  \n",
      "1  33.9599 -118.3962  \n",
      "2  34.0224 -118.2524  \n",
      "3  34.1016 -118.3295  \n",
      "4  34.0387 -118.2488  \n",
      "\n",
      "[5 rows x 28 columns]\n",
      "       DR_NO               Date Rptd                DATE OCC  TIME OCC  AREA  \\\n",
      "0  190326475  03/01/2020 12:00:00 AM  03/01/2020 12:00:00 AM      2130     7   \n",
      "1  200106753  02/09/2020 12:00:00 AM  02/08/2020 12:00:00 AM      1800     1   \n",
      "2  200320258  11/11/2020 12:00:00 AM  11/04/2020 12:00:00 AM      1700     3   \n",
      "3  200907217  05/10/2023 12:00:00 AM  03/10/2020 12:00:00 AM      2037     9   \n",
      "4  220614831  08/18/2022 12:00:00 AM  08/17/2020 12:00:00 AM      1200     6   \n",
      "\n",
      "   AREA NAME  Rpt Dist No  Part 1-2  Crm Cd  \\\n",
      "0   Wilshire          784         1     510   \n",
      "1    Central          182         1     330   \n",
      "2  Southwest          356         1     480   \n",
      "3   Van Nuys          964         1     343   \n",
      "4  Hollywood          666         2     354   \n",
      "\n",
      "                                Crm Cd Desc  ... Status   Status Desc  \\\n",
      "0                          VEHICLE - STOLEN  ...     AA  Adult Arrest   \n",
      "1                     BURGLARY FROM VEHICLE  ...     IC   Invest Cont   \n",
      "2                             BIKE - STOLEN  ...     IC   Invest Cont   \n",
      "3  SHOPLIFTING-GRAND THEFT ($950.01 & OVER)  ...     IC   Invest Cont   \n",
      "4                         THEFT OF IDENTITY  ...     IC   Invest Cont   \n",
      "\n",
      "  Crm Cd 1 Crm Cd 2  Crm Cd 3 Crm Cd 4  \\\n",
      "0    510.0    998.0       NaN      NaN   \n",
      "1    330.0    998.0       NaN      NaN   \n",
      "2    480.0      NaN       NaN      NaN   \n",
      "3    343.0      NaN       NaN      NaN   \n",
      "4    354.0      NaN       NaN      NaN   \n",
      "\n",
      "                                   LOCATION Cross Street      LAT       LON  \n",
      "0   1900 S  LONGWOOD                     AV          NaN  34.0375 -118.3506  \n",
      "1   1000 S  FLOWER                       ST          NaN  34.0444 -118.2628  \n",
      "2   1400 W  37TH                         ST          NaN  34.0210 -118.3002  \n",
      "3  14000    RIVERSIDE                    DR          NaN  34.1576 -118.4387  \n",
      "4                         1900    TRANSIENT          NaN  34.0944 -118.3277  \n",
      "\n",
      "[5 rows x 28 columns]\n"
     ]
    }
   ],
   "source": [
    "print(crime_data_2010_to_2019.head())\n",
    "print(crime_data_2020_to_present.head())"
   ]
  },
  {
   "cell_type": "code",
   "execution_count": 5,
   "id": "86f9ef88",
   "metadata": {},
   "outputs": [],
   "source": [
    "combined_crime_data = pd.concat([crime_data_2010_to_2019, crime_data_2020_to_present])"
   ]
  },
  {
   "cell_type": "code",
   "execution_count": 6,
   "id": "d6e89067",
   "metadata": {},
   "outputs": [
    {
     "name": "stdout",
     "output_type": "stream",
     "text": [
      "       DR_NO               Date Rptd                DATE OCC  TIME OCC  AREA   \\\n",
      "0    1307355  02/20/2010 12:00:00 AM  02/20/2010 12:00:00 AM      1350   13.0   \n",
      "1   11401303  09/13/2010 12:00:00 AM  09/12/2010 12:00:00 AM        45   14.0   \n",
      "2   70309629  08/09/2010 12:00:00 AM  08/09/2010 12:00:00 AM      1515   13.0   \n",
      "3   90631215  01/05/2010 12:00:00 AM  01/05/2010 12:00:00 AM       150    6.0   \n",
      "4  100100501  01/03/2010 12:00:00 AM  01/02/2010 12:00:00 AM      2100    1.0   \n",
      "\n",
      "   AREA NAME  Rpt Dist No  Part 1-2  Crm Cd  \\\n",
      "0     Newton         1385         2     900   \n",
      "1    Pacific         1485         2     740   \n",
      "2     Newton         1324         2     946   \n",
      "3  Hollywood          646         2     900   \n",
      "4    Central          176         1     122   \n",
      "\n",
      "                                         Crm Cd Desc  ...   Status Desc  \\\n",
      "0                           VIOLATION OF COURT ORDER  ...  Adult Arrest   \n",
      "1  VANDALISM - FELONY ($400 & OVER, ALL CHURCH VA...  ...   Invest Cont   \n",
      "2                          OTHER MISCELLANEOUS CRIME  ...   Invest Cont   \n",
      "3                           VIOLATION OF COURT ORDER  ...   Invest Cont   \n",
      "4                                    RAPE, ATTEMPTED  ...   Invest Cont   \n",
      "\n",
      "   Crm Cd 1 Crm Cd 2 Crm Cd 3  Crm Cd 4  \\\n",
      "0     900.0      NaN      NaN       NaN   \n",
      "1     740.0      NaN      NaN       NaN   \n",
      "2     946.0      NaN      NaN       NaN   \n",
      "3     900.0    998.0      NaN       NaN   \n",
      "4     122.0      NaN      NaN       NaN   \n",
      "\n",
      "                                  LOCATION                     Cross Street  \\\n",
      "0   300 E  GAGE                         AV                              NaN   \n",
      "1          SEPULVEDA                    BL  MANCHESTER                   AV   \n",
      "2  1300 E  21ST                         ST                              NaN   \n",
      "3          CAHUENGA                     BL  HOLLYWOOD                    BL   \n",
      "4          8TH                          ST  SAN PEDRO                    ST   \n",
      "\n",
      "       LAT       LON AREA  \n",
      "0  33.9825 -118.2695  NaN  \n",
      "1  33.9599 -118.3962  NaN  \n",
      "2  34.0224 -118.2524  NaN  \n",
      "3  34.1016 -118.3295  NaN  \n",
      "4  34.0387 -118.2488  NaN  \n",
      "\n",
      "[5 rows x 29 columns]\n"
     ]
    }
   ],
   "source": [
    "print(combined_crime_data.head())"
   ]
  },
  {
   "cell_type": "code",
   "execution_count": 7,
   "id": "916ba84c",
   "metadata": {},
   "outputs": [
    {
     "name": "stdout",
     "output_type": "stream",
     "text": [
      "Initial data shape: (3074468, 29)\n",
      "Null values per column:\n",
      " DR_NO                   0\n",
      "Date Rptd               0\n",
      "DATE OCC                0\n",
      "TIME OCC                0\n",
      "AREA               951608\n",
      "AREA NAME               0\n",
      "Rpt Dist No             0\n",
      "Part 1-2                0\n",
      "Crm Cd                  0\n",
      "Crm Cd Desc             0\n",
      "Mocodes            363884\n",
      "Vict Age                0\n",
      "Vict Sex           325708\n",
      "Vict Descent       325764\n",
      "Premis Cd              64\n",
      "Premis Desc           755\n",
      "Weapon Used Cd    2035931\n",
      "Weapon Desc       2035932\n",
      "Status                  4\n",
      "Status Desc             0\n",
      "Crm Cd 1               21\n",
      "Crm Cd 2          2864735\n",
      "Crm Cd 3          3068616\n",
      "Crm Cd 4          3074299\n",
      "LOCATION                0\n",
      "Cross Street      2570242\n",
      "LAT                     0\n",
      "LON                     0\n",
      "AREA              2122860\n",
      "dtype: int64\n",
      "Duplicate rows: 0\n"
     ]
    }
   ],
   "source": [
    "# Check the initial state of the data\n",
    "print(\"Initial data shape:\", combined_crime_data.shape)\n",
    "print(\"Null values per column:\\n\", combined_crime_data.isnull().sum())\n",
    "print(\"Duplicate rows:\", combined_crime_data.duplicated().sum())"
   ]
  },
  {
   "cell_type": "code",
   "execution_count": 8,
   "id": "e450412f",
   "metadata": {},
   "outputs": [
    {
     "name": "stderr",
     "output_type": "stream",
     "text": [
      "C:\\Users\\16395\\AppData\\Local\\Temp\\ipykernel_4248\\1613850335.py:2: UserWarning: Could not infer format, so each element will be parsed individually, falling back to `dateutil`. To ensure parsing is consistent and as-expected, please specify a format.\n",
      "  combined_crime_data['Date Rptd'] = pd.to_datetime(combined_crime_data['Date Rptd']).dt.date\n",
      "C:\\Users\\16395\\AppData\\Local\\Temp\\ipykernel_4248\\1613850335.py:3: UserWarning: Could not infer format, so each element will be parsed individually, falling back to `dateutil`. To ensure parsing is consistent and as-expected, please specify a format.\n",
      "  combined_crime_data['DATE OCC'] = pd.to_datetime(combined_crime_data['DATE OCC']).dt.date\n"
     ]
    }
   ],
   "source": [
    "# Remove timestamp '12:00:00 AM' from 'Date Rptd' and 'DATE OCC'\n",
    "combined_crime_data['Date Rptd'] = pd.to_datetime(combined_crime_data['Date Rptd']).dt.date\n",
    "combined_crime_data['DATE OCC'] = pd.to_datetime(combined_crime_data['DATE OCC']).dt.date"
   ]
  },
  {
   "cell_type": "code",
   "execution_count": 9,
   "id": "366dc7f7",
   "metadata": {},
   "outputs": [],
   "source": [
    "# Remove the specified columns\n",
    "columns_to_remove = ['Part 1-2', 'Mocodes', 'Crm Cd 1', 'Crm Cd 2', 'Crm Cd 3', 'Crm Cd 4']\n",
    "combined_crime_data = combined_crime_data.drop(columns=columns_to_remove)"
   ]
  },
  {
   "cell_type": "code",
   "execution_count": 10,
   "id": "4b2063d3",
   "metadata": {},
   "outputs": [],
   "source": [
    "def clean_address(address):\n",
    "    if pd.isna(address):\n",
    "        return address\n",
    "    return ' '.join(address.split())\n"
   ]
  },
  {
   "cell_type": "code",
   "execution_count": 11,
   "id": "6eff28fa",
   "metadata": {},
   "outputs": [],
   "source": [
    "# Clean LOCATION and Cross Street columns\n",
    "combined_crime_data['LOCATION'] = combined_crime_data['LOCATION'].apply(clean_address)\n",
    "combined_crime_data['Cross Street'] = combined_crime_data['Cross Street'].apply(clean_address)"
   ]
  },
  {
   "cell_type": "code",
   "execution_count": 16,
   "id": "e7dafc98",
   "metadata": {},
   "outputs": [],
   "source": [
    "# Convert 'Weapon Used Cd' and 'Weapon Desc' columns to string, then strip whitespace and replace empty strings with NaN\n",
    "combined_crime_data['Weapon Used Cd'] = combined_crime_data['Weapon Used Cd'].astype(str).str.strip().replace('', np.nan)\n",
    "combined_crime_data['Weapon Desc'] = combined_crime_data['Weapon Desc'].astype(str).str.strip().replace('', np.nan)"
   ]
  },
  {
   "cell_type": "code",
   "execution_count": 17,
   "id": "cec62dbd",
   "metadata": {},
   "outputs": [],
   "source": [
    "output_file_path = r'C:\\Users\\16395\\Downloads\\final project\\bigdatasource\\LAPD\\crime_data\\after_transformation\\Combined_Crime_Data.csv'"
   ]
  },
  {
   "cell_type": "code",
   "execution_count": 18,
   "id": "937d9a25",
   "metadata": {},
   "outputs": [],
   "source": [
    "combined_crime_data.to_csv(output_file_path, index=False)"
   ]
  },
  {
   "cell_type": "code",
   "execution_count": 21,
   "id": "0611022b",
   "metadata": {},
   "outputs": [
    {
     "name": "stdout",
     "output_type": "stream",
     "text": [
      "Combined CSV file has been created at C:\\Users\\16395\\Downloads\\final project\\bigdatasource\\LAPD\\crime_data\\after_transformation\\Combined_Crime_Data.csv\n"
     ]
    }
   ],
   "source": [
    "print(f\"Combined CSV file has been created at {output_file_path}\")"
   ]
  },
  {
   "cell_type": "code",
   "execution_count": null,
   "id": "5b138b33",
   "metadata": {},
   "outputs": [],
   "source": []
  }
 ],
 "metadata": {
  "kernelspec": {
   "display_name": "Python 3 (ipykernel)",
   "language": "python",
   "name": "python3"
  },
  "language_info": {
   "codemirror_mode": {
    "name": "ipython",
    "version": 3
   },
   "file_extension": ".py",
   "mimetype": "text/x-python",
   "name": "python",
   "nbconvert_exporter": "python",
   "pygments_lexer": "ipython3",
   "version": "3.11.5"
  }
 },
 "nbformat": 4,
 "nbformat_minor": 5
}
