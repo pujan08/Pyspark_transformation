{
 "cells": [
  {
   "cell_type": "code",
   "execution_count": 1,
   "metadata": {
    "colab": {
     "base_uri": "https://localhost:8080/"
    },
    "executionInfo": {
     "elapsed": 53321,
     "status": "ok",
     "timestamp": 1720143695591,
     "user": {
      "displayName": "pujan bhatt",
      "userId": "08540859683408472730"
     },
     "user_tz": 240
    },
    "id": "b79YWGtFAvOs",
    "outputId": "b2461a52-4ffb-4446-f479-678b0826d76b"
   },
   "outputs": [
    {
     "name": "stdout",
     "output_type": "stream",
     "text": [
      "Requirement already satisfied: pymongo in c:\\programdata\\anaconda3\\lib\\site-packages (4.6.2)\n",
      "Requirement already satisfied: dnspython<3.0.0,>=1.16.0 in c:\\programdata\\anaconda3\\lib\\site-packages (from pymongo) (2.6.1)\n",
      "Requirement already satisfied: pyspark in c:\\programdata\\anaconda3\\lib\\site-packages (3.5.1)\n",
      "Requirement already satisfied: py4j==0.10.9.7 in c:\\programdata\\anaconda3\\lib\\site-packages (from pyspark) (0.10.9.7)\n",
      "Requirement already satisfied: pandas in c:\\programdata\\anaconda3\\lib\\site-packages (2.2.2)\n",
      "Requirement already satisfied: psycopg2 in c:\\programdata\\anaconda3\\lib\\site-packages (2.9.9)\n",
      "Requirement already satisfied: numpy>=1.23.2 in c:\\programdata\\anaconda3\\lib\\site-packages (from pandas) (1.26.4)\n",
      "Requirement already satisfied: python-dateutil>=2.8.2 in c:\\programdata\\anaconda3\\lib\\site-packages (from pandas) (2.9.0.post0)\n",
      "Requirement already satisfied: pytz>=2020.1 in c:\\programdata\\anaconda3\\lib\\site-packages (from pandas) (2024.1)\n",
      "Requirement already satisfied: tzdata>=2022.7 in c:\\programdata\\anaconda3\\lib\\site-packages (from pandas) (2023.3)\n",
      "Requirement already satisfied: six>=1.5 in c:\\programdata\\anaconda3\\lib\\site-packages (from python-dateutil>=2.8.2->pandas) (1.16.0)\n",
      "Requirement already satisfied: sqlalchemy in c:\\programdata\\anaconda3\\lib\\site-packages (2.0.30)\n",
      "Requirement already satisfied: typing-extensions>=4.6.0 in c:\\programdata\\anaconda3\\lib\\site-packages (from sqlalchemy) (4.10.0)\n",
      "Requirement already satisfied: greenlet!=0.4.17 in c:\\programdata\\anaconda3\\lib\\site-packages (from sqlalchemy) (3.0.1)\n",
      "Requirement already satisfied: psycopg2-binary in c:\\programdata\\anaconda3\\lib\\site-packages (2.9.9)\n"
     ]
    }
   ],
   "source": [
    "!pip install pymongo\n",
    "!pip install pyspark\n",
    "!pip install pandas psycopg2\n",
    "!pip install sqlalchemy\n",
    "!pip install psycopg2-binary"
   ]
  },
  {
   "cell_type": "code",
   "execution_count": 2,
   "metadata": {
    "executionInfo": {
     "elapsed": 19339,
     "status": "ok",
     "timestamp": 1720143718952,
     "user": {
      "displayName": "pujan bhatt",
      "userId": "08540859683408472730"
     },
     "user_tz": 240
    },
    "id": "xsGkDgaQBXMh"
   },
   "outputs": [],
   "source": [
    "from pyspark.sql import SparkSession\n",
    "from pyspark.sql.functions import regexp_replace\n",
    "from pyspark.sql.functions import lit\n",
    "import pymongo\n",
    "from pymongo import MongoClient\n",
    "import pandas as pd\n",
    "from sqlalchemy import create_engine\n",
    "from pyspark.sql import SparkSession\n",
    "from pyspark.sql.functions import to_date, col, expr, trim, when"
   ]
  },
  {
   "cell_type": "code",
   "execution_count": 3,
   "metadata": {
    "executionInfo": {
     "elapsed": 303,
     "status": "ok",
     "timestamp": 1720143729515,
     "user": {
      "displayName": "pujan bhatt",
      "userId": "08540859683408472730"
     },
     "user_tz": 240
    },
    "id": "p1PgbEzHClqr"
   },
   "outputs": [],
   "source": [
    "client = MongoClient('localhost', 27017)\n",
    "db = client['LAPD']\n",
    "collection = db['Call_Data']"
   ]
  },
  {
   "cell_type": "code",
   "execution_count": 4,
   "metadata": {
    "executionInfo": {
     "elapsed": 77808,
     "status": "ok",
     "timestamp": 1720143808715,
     "user": {
      "displayName": "pujan bhatt",
      "userId": "08540859683408472730"
     },
     "user_tz": 240
    },
    "id": "T-hFxbcweDG2"
   },
   "outputs": [],
   "source": [
    "# Fetch data and convert _id to string\n",
    "data = list(collection.find())\n",
    "for doc in data:\n",
    "    doc['_id'] = str(doc['_id'])"
   ]
  },
  {
   "cell_type": "code",
   "execution_count": 5,
   "metadata": {
    "executionInfo": {
     "elapsed": 11336,
     "status": "ok",
     "timestamp": 1720143844684,
     "user": {
      "displayName": "pujan bhatt",
      "userId": "08540859683408472730"
     },
     "user_tz": 240
    },
    "id": "cIS0CZpIelSk"
   },
   "outputs": [],
   "source": [
    "# Convert to DataFrame\n",
    "df = pd.DataFrame(data)"
   ]
  },
  {
   "cell_type": "code",
   "execution_count": 6,
   "metadata": {
    "colab": {
     "base_uri": "https://localhost:8080/"
    },
    "executionInfo": {
     "elapsed": 42,
     "status": "ok",
     "timestamp": 1720143895931,
     "user": {
      "displayName": "pujan bhatt",
      "userId": "08540859683408472730"
     },
     "user_tz": 240
    },
    "id": "gnLXl9N_fJuo",
    "outputId": "83fe00ab-a327-4fa5-a5c4-b48f129a59dc"
   },
   "outputs": [
    {
     "name": "stdout",
     "output_type": "stream",
     "text": [
      "                        _id   Incident_Number     Area_Occ  Rpt_Dist  \\\n",
      "0  668727f70dfcff0bb9b75798   LPD190704000047  N Hollywood    1532.0   \n",
      "1  668727f70dfcff0bb9b75799   LPD190529006334      Outside       NaN   \n",
      "2  668727f70dfcff0bb9b7579a   LPD190218001024    Southwest     379.0   \n",
      "3  668727f70dfcff0bb9b7579b  PD19120600001346    Northeast    1109.0   \n",
      "4  668727f70dfcff0bb9b7579c   LPD190216004881     Van Nuys     933.0   \n",
      "\n",
      "            Dispatch_Date Dispatch_Time Call_Type_Code Call_Type_Text  \n",
      "0  07/04/2019 12:00:00 AM      00:14:49           507F      FIREWORKS  \n",
      "1  05/29/2019 12:00:00 AM      21:28:53              6         CODE 6  \n",
      "2  02/18/2019 12:00:00 AM      07:46:54           507C   CONSTRUCTION  \n",
      "3  12/06/2019 12:00:00 AM      08:32:27              6         CODE 6  \n",
      "4  02/16/2019 12:00:00 AM      21:14:49           507P          PARTY  \n"
     ]
    }
   ],
   "source": [
    "# Display the dataframe\n",
    "print(df.head(5))"
   ]
  },
  {
   "cell_type": "code",
   "execution_count": 7,
   "metadata": {
    "executionInfo": {
     "elapsed": 27487,
     "status": "ok",
     "timestamp": 1720144015916,
     "user": {
      "displayName": "pujan bhatt",
      "userId": "08540859683408472730"
     },
     "user_tz": 240
    },
    "id": "b1TjVRthfYlS"
   },
   "outputs": [],
   "source": [
    "# Increase Spark memory limit\n",
    "spark = SparkSession.builder \\\n",
    "    .appName(\"Pandas to PySpark\") \\\n",
    "    .config(\"spark.driver.memory\", \"4g\") \\\n",
    "    .config(\"spark.sql.legacy.timeParserPolicy\", \"LEGACY\") \\\n",
    "    .getOrCreate()"
   ]
  },
  {
   "cell_type": "code",
   "execution_count": 8,
   "metadata": {
    "executionInfo": {
     "elapsed": 325459,
     "status": "ok",
     "timestamp": 1720144351135,
     "user": {
      "displayName": "pujan bhatt",
      "userId": "08540859683408472730"
     },
     "user_tz": 240
    },
    "id": "xRPhLnzSfbaI"
   },
   "outputs": [],
   "source": [
    "# Convert the pandas DataFrame to a PySpark DataFrame\n",
    "call_data_df = spark.createDataFrame(df)"
   ]
  },
  {
   "cell_type": "code",
   "execution_count": 10,
   "metadata": {
    "colab": {
     "base_uri": "https://localhost:8080/"
    },
    "executionInfo": {
     "elapsed": 15819,
     "status": "ok",
     "timestamp": 1720144418916,
     "user": {
      "displayName": "pujan bhatt",
      "userId": "08540859683408472730"
     },
     "user_tz": 240
    },
    "id": "1Yh2mCm9mF3x",
    "outputId": "6dd0b225-0bda-4c34-908b-e9b3f744ff54"
   },
   "outputs": [
    {
     "name": "stdout",
     "output_type": "stream",
     "text": [
      "+--------------------+----------------+-----------+--------+--------------------+-------------+--------------+--------------+\n",
      "|                 _id| Incident_Number|   Area_Occ|Rpt_Dist|       Dispatch_Date|Dispatch_Time|Call_Type_Code|Call_Type_Text|\n",
      "+--------------------+----------------+-----------+--------+--------------------+-------------+--------------+--------------+\n",
      "|668727f70dfcff0bb...| LPD190704000047|N Hollywood|  1532.0|07/04/2019 12:00:...|     00:14:49|          507F|     FIREWORKS|\n",
      "|668727f70dfcff0bb...| LPD190529006334|    Outside|     NaN|05/29/2019 12:00:...|     21:28:53|             6|        CODE 6|\n",
      "|668727f70dfcff0bb...| LPD190218001024|  Southwest|   379.0|02/18/2019 12:00:...|     07:46:54|          507C|  CONSTRUCTION|\n",
      "|668727f70dfcff0bb...|PD19120600001346|  Northeast|  1109.0|12/06/2019 12:00:...|     08:32:27|             6|        CODE 6|\n",
      "+--------------------+----------------+-----------+--------+--------------------+-------------+--------------+--------------+\n",
      "only showing top 4 rows\n",
      "\n"
     ]
    }
   ],
   "source": [
    "call_data_df.show(4)"
   ]
  },
  {
   "cell_type": "code",
   "execution_count": 12,
   "metadata": {
    "executionInfo": {
     "elapsed": 109,
     "status": "ok",
     "timestamp": 1720144474846,
     "user": {
      "displayName": "pujan bhatt",
      "userId": "08540859683408472730"
     },
     "user_tz": 240
    },
    "id": "uxavEXknmSdF"
   },
   "outputs": [],
   "source": [
    "# Transform the Dispatch_Date column to remove the time part\n",
    "call_for_service_df = call_data_df.withColumn(\n",
    "    \"Dispatch_Date\",\n",
    "    regexp_replace(\"Dispatch_Date\", r\"\\s\\d{2}:\\d{2}:\\d{2}\\s[APM]{2}\", \"\")\n",
    ")\n"
   ]
  },
  {
   "cell_type": "code",
   "execution_count": 13,
   "metadata": {
    "colab": {
     "base_uri": "https://localhost:8080/"
    },
    "executionInfo": {
     "elapsed": 6316,
     "status": "ok",
     "timestamp": 1720144502066,
     "user": {
      "displayName": "pujan bhatt",
      "userId": "08540859683408472730"
     },
     "user_tz": 240
    },
    "id": "0CcMBFqvmb2K",
    "outputId": "e156f311-92ff-49f2-ffec-b2a6f613e01f"
   },
   "outputs": [
    {
     "name": "stdout",
     "output_type": "stream",
     "text": [
      "+--------------------+----------------+-----------+--------+-------------+-------------+--------------+--------------------+\n",
      "|                 _id| Incident_Number|   Area_Occ|Rpt_Dist|Dispatch_Date|Dispatch_Time|Call_Type_Code|      Call_Type_Text|\n",
      "+--------------------+----------------+-----------+--------+-------------+-------------+--------------+--------------------+\n",
      "|668727f70dfcff0bb...| LPD190704000047|N Hollywood|  1532.0|   07/04/2019|     00:14:49|          507F|           FIREWORKS|\n",
      "|668727f70dfcff0bb...| LPD190529006334|    Outside|     NaN|   05/29/2019|     21:28:53|             6|              CODE 6|\n",
      "|668727f70dfcff0bb...| LPD190218001024|  Southwest|   379.0|   02/18/2019|     07:46:54|          507C|        CONSTRUCTION|\n",
      "|668727f70dfcff0bb...|PD19120600001346|  Northeast|  1109.0|   12/06/2019|     08:32:27|             6|              CODE 6|\n",
      "|668727f70dfcff0bb...| LPD190216004881|   Van Nuys|   933.0|   02/16/2019|     21:14:49|          507P|               PARTY|\n",
      "|668727f70dfcff0bb...|PD19122100000089|  Southwest|   392.0|   12/21/2019|     00:21:03|             6|              CODE 6|\n",
      "|668727f70dfcff0bb...| LPD190719001920|    Outside|     NaN|   07/19/2019|     09:56:22|             6|              CODE 6|\n",
      "|668727f70dfcff0bb...| LPD190525000475|    Topanga|  2177.0|   05/25/2019|     02:12:28|        459PSN|       POSS SUSP NOW|\n",
      "|668727f70dfcff0bb...| LPD190203003749|    Mission|  1981.0|   02/03/2019|     19:50:18|         904AP|AMB PEDESTRIAN INVOL|\n",
      "|668727f70dfcff0bb...| LPD190717001707|    Mission|  1983.0|   07/17/2019|     08:56:38|             6|              CODE 6|\n",
      "|668727f70dfcff0bb...| LPD190312000425|    Outside|     NaN|   03/12/2019|     02:49:06|             6|              CODE 6|\n",
      "|668727f70dfcff0bb...| LPD190621005807|  Southeast|  1823.0|   06/21/2019|     19:21:35|             6|              CODE 6|\n",
      "|668727f70dfcff0bb...| LPD190820005843|     Newton|  1371.0|   08/20/2019|     20:55:00|          594I|              INVEST|\n",
      "|668727f70dfcff0bb...| LPD190603004666|    Outside|     NaN|   06/03/2019|     17:42:09|             6|              CODE 6|\n",
      "|668727f70dfcff0bb...| LPD190815006128|    Olympic|  2031.0|   08/15/2019|     20:55:34|          9046|            DUI INVD|\n",
      "|668727f70dfcff0bb...| LPD190630006096|    Outside|     NaN|   06/30/2019|     22:00:19|             6|              CODE 6|\n",
      "|668727f70dfcff0bb...| LPD190613005657|West Valley|  1021.0|   06/13/2019|     19:23:25|          620F|              FAMILY|\n",
      "|668727f70dfcff0bb...| LPD190517002262|    Outside|     NaN|   05/17/2019|     11:06:06|             6|              CODE 6|\n",
      "|668727f70dfcff0bb...| LPD190621006909|   Foothill|  1658.0|   06/21/2019|     21:41:54|          507R|               RADIO|\n",
      "|668727f70dfcff0bb...|PD19110600001060|    Outside|     NaN|   11/06/2019|     07:16:35|             6|              CODE 6|\n",
      "+--------------------+----------------+-----------+--------+-------------+-------------+--------------+--------------------+\n",
      "only showing top 20 rows\n",
      "\n"
     ]
    }
   ],
   "source": [
    "# Replace null values in the Rpt_Dist column with NaN\n",
    "call_for_service_df = call_for_service_df.na.fill({\"Rpt_Dist\": \"NaN\"})\n",
    "\n",
    "# Show the transformed DataFrame\n",
    "call_for_service_df.show()"
   ]
  },
  {
   "cell_type": "code",
   "execution_count": 17,
   "metadata": {
    "colab": {
     "base_uri": "https://localhost:8080/"
    },
    "executionInfo": {
     "elapsed": 7702,
     "status": "ok",
     "timestamp": 1720144649597,
     "user": {
      "displayName": "pujan bhatt",
      "userId": "08540859683408472730"
     },
     "user_tz": 240
    },
    "id": "lOrZ22gVmkCZ",
    "outputId": "c4e93ebf-bd31-4f84-c9a9-c5c29aaf24dc"
   },
   "outputs": [
    {
     "name": "stdout",
     "output_type": "stream",
     "text": [
      "+----------------+-----------+--------+-------------+-------------+--------------+--------------------+\n",
      "| Incident_Number|   Area_Occ|Rpt_Dist|Dispatch_Date|Dispatch_Time|Call_Type_Code|      Call_Type_Text|\n",
      "+----------------+-----------+--------+-------------+-------------+--------------+--------------------+\n",
      "| LPD190704000047|N Hollywood|  1532.0|   07/04/2019|     00:14:49|          507F|           FIREWORKS|\n",
      "| LPD190529006334|    Outside|     NaN|   05/29/2019|     21:28:53|             6|              CODE 6|\n",
      "| LPD190218001024|  Southwest|   379.0|   02/18/2019|     07:46:54|          507C|        CONSTRUCTION|\n",
      "|PD19120600001346|  Northeast|  1109.0|   12/06/2019|     08:32:27|             6|              CODE 6|\n",
      "| LPD190216004881|   Van Nuys|   933.0|   02/16/2019|     21:14:49|          507P|               PARTY|\n",
      "|PD19122100000089|  Southwest|   392.0|   12/21/2019|     00:21:03|             6|              CODE 6|\n",
      "| LPD190719001920|    Outside|     NaN|   07/19/2019|     09:56:22|             6|              CODE 6|\n",
      "| LPD190525000475|    Topanga|  2177.0|   05/25/2019|     02:12:28|        459PSN|       POSS SUSP NOW|\n",
      "| LPD190203003749|    Mission|  1981.0|   02/03/2019|     19:50:18|         904AP|AMB PEDESTRIAN INVOL|\n",
      "| LPD190717001707|    Mission|  1983.0|   07/17/2019|     08:56:38|             6|              CODE 6|\n",
      "| LPD190312000425|    Outside|     NaN|   03/12/2019|     02:49:06|             6|              CODE 6|\n",
      "| LPD190621005807|  Southeast|  1823.0|   06/21/2019|     19:21:35|             6|              CODE 6|\n",
      "| LPD190820005843|     Newton|  1371.0|   08/20/2019|     20:55:00|          594I|              INVEST|\n",
      "| LPD190603004666|    Outside|     NaN|   06/03/2019|     17:42:09|             6|              CODE 6|\n",
      "| LPD190815006128|    Olympic|  2031.0|   08/15/2019|     20:55:34|          9046|            DUI INVD|\n",
      "| LPD190630006096|    Outside|     NaN|   06/30/2019|     22:00:19|             6|              CODE 6|\n",
      "| LPD190613005657|West Valley|  1021.0|   06/13/2019|     19:23:25|          620F|              FAMILY|\n",
      "| LPD190517002262|    Outside|     NaN|   05/17/2019|     11:06:06|             6|              CODE 6|\n",
      "| LPD190621006909|   Foothill|  1658.0|   06/21/2019|     21:41:54|          507R|               RADIO|\n",
      "|PD19110600001060|    Outside|     NaN|   11/06/2019|     07:16:35|             6|              CODE 6|\n",
      "+----------------+-----------+--------+-------------+-------------+--------------+--------------------+\n",
      "only showing top 20 rows\n",
      "\n"
     ]
    }
   ],
   "source": [
    "# Remove the specified columns\n",
    "columns_to_remove = ['_id']\n",
    "call_for_service_df = call_for_service_df.drop(*columns_to_remove)\n",
    "# Show the transformed DataFrame\n",
    "call_for_service_df.show()"
   ]
  },
  {
   "cell_type": "code",
   "execution_count": 18,
   "metadata": {
    "executionInfo": {
     "elapsed": 5,
     "status": "ok",
     "timestamp": 1720144726535,
     "user": {
      "displayName": "pujan bhatt",
      "userId": "08540859683408472730"
     },
     "user_tz": 240
    },
    "id": "HfyHDRU-nLZB"
   },
   "outputs": [],
   "source": [
    "# Define the output path where you want to save the CSV file locally\n",
    "output_path = r\"C:\\Users\\16395\\Downloads\\final project\\bigdatasource\\LAPD\\mongodb_pyspark_transformation\\output.csv\""
   ]
  },
  {
   "cell_type": "code",
   "execution_count": 20,
   "metadata": {
    "executionInfo": {
     "elapsed": 10,
     "status": "ok",
     "timestamp": 1720144767872,
     "user": {
      "displayName": "pujan bhatt",
      "userId": "08540859683408472730"
     },
     "user_tz": 240
    },
    "id": "HEgukNDznbSJ"
   },
   "outputs": [],
   "source": [
    "# Reduce the number of partitions to 1 to create a single CSV file\n",
    "call_for_service_df = call_for_service_df.coalesce(1)"
   ]
  },
  {
   "cell_type": "code",
   "execution_count": 23,
   "metadata": {
    "executionInfo": {
     "elapsed": 77843,
     "status": "ok",
     "timestamp": 1720144897671,
     "user": {
      "displayName": "pujan bhatt",
      "userId": "08540859683408472730"
     },
     "user_tz": 240
    },
    "id": "qxM7WfwXnje-"
   },
   "outputs": [],
   "source": [
    "# Save the DataFrame to a single CSV file on your local machine\n",
    "call_for_service_df.write.csv(output_path, mode=\"overwrite\", header=True)"
   ]
  }
 ],
 "metadata": {
  "colab": {
   "authorship_tag": "ABX9TyPr5wdTOc/OSoUx1PgttwcH",
   "provenance": []
  },
  "kernelspec": {
   "display_name": "Python 3 (ipykernel)",
   "language": "python",
   "name": "python3"
  },
  "language_info": {
   "codemirror_mode": {
    "name": "ipython",
    "version": 3
   },
   "file_extension": ".py",
   "mimetype": "text/x-python",
   "name": "python",
   "nbconvert_exporter": "python",
   "pygments_lexer": "ipython3",
   "version": "3.11.5"
  }
 },
 "nbformat": 4,
 "nbformat_minor": 1
}
